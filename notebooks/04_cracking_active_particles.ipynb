{
 "cells": [
  {
   "cell_type": "markdown",
   "id": "598e1010",
   "metadata": {},
   "source": [
    "# An Example Jupyter Notebook for Greylevel Analysis of Active Cathode Particles in X-ray CT tomograms \n",
    "Here we present a method for analysing the greylevel change in active cathode particles in their pristine state and after ageing. When aged Nickel Manganese Cobalt particles crack, resulting in changes in greylevel when imaged with X-ray CT. Typically, particles crack more in the center than at the surface. In this notebook we demonstrate how to use the GRAPES (Grey-level Analysis of Particles) toolkit (`utils/GRAPES.py`) to analyse this phenomenon."
   ]
  },
  {
   "cell_type": "code",
   "execution_count": null,
   "id": "71fdfdd9",
   "metadata": {},
   "outputs": [],
   "source": [
    "import os, sys\n",
    "CWD = os.getcwd()\n",
    "if os.path.basename(CWD) == \"notebooks\":\n",
    "    PROJECT_ROOT = os.path.abspath(os.path.join(CWD, \"..\"))\n",
    "else:\n",
    "    PROJECT_ROOT = CWD  # fallback if already at root\n",
    "os.chdir(PROJECT_ROOT)\n",
    "sys.path.append(os.path.join(PROJECT_ROOT, \"utils\"))\n",
    "print(f\"Correct Working Directory: {str(os.path.basename(os.getcwd()))=='battery_xct_notebooks'}\")\n",
    "\n",
    "import tifffile as tiff\n",
    "import numpy as np\n",
    "import numpy.ma as ma\n",
    "%matplotlib widget\n",
    "from utils.plotting_utils import view_axis0, view_axis0_with_labels\n",
    "import utils.GRAPES as gp\n",
    "from IPython.display import display"
   ]
  },
  {
   "cell_type": "markdown",
   "id": "347a4b76",
   "metadata": {},
   "source": [
    "First we explore the dataset. We can scroll through the original data and particle masks using the widgets below."
   ]
  },
  {
   "cell_type": "code",
   "execution_count": null,
   "id": "07141e54",
   "metadata": {},
   "outputs": [],
   "source": [
    "pristine_intensity = tiff.imread('data/prist_gl.tif')\n",
    "pristine_labels = tiff.imread('data/prist_lbl.tif')\n",
    "pristine_labels = np.repeat(pristine_labels, 2, axis=0)[:-1] # image was downsampled in axis zero for repo, resizes to original aspect\n",
    "\n",
    "slider = view_axis0_with_labels(pristine_intensity, pristine_labels)\n",
    "display(slider)"
   ]
  },
  {
   "cell_type": "code",
   "execution_count": null,
   "id": "18875fd5",
   "metadata": {},
   "outputs": [],
   "source": [
    "aged_intensity = tiff.imread('data/charge_gl.tif')\n",
    "aged_labels = tiff.imread('data/charge_lbl.tif')\n",
    "aged_labels = np.repeat(aged_labels, 2, axis=0)[:-1] # image was downsampled in axis zero for repo, resizes to original aspect\n",
    "\n",
    "slider1 = view_axis0_with_labels(aged_intensity, aged_labels)\n",
    "display(slider1)"
   ]
  },
  {
   "cell_type": "markdown",
   "id": "d1e90495",
   "metadata": {},
   "source": [
    "The particle segmentations were achieved using `skimage.segmentation.watershed` with a smoothed distance map. The segmentation workflow is excluded, but is available from the authors on request.\n",
    "\n",
    "Using the `GRAPES` toolkit we can calculate a dataframe of particles and particle properties. The GRAPES toolkit has been previously discussed in a paper [here](https://onlinelibrary.wiley.com/doi/full/10.1002/smtd.202500082)."
   ]
  },
  {
   "cell_type": "code",
   "execution_count": null,
   "id": "04ac858f",
   "metadata": {},
   "outputs": [],
   "source": [
    "pristine_df = gp.GRAPES(pristine_labels, pristine_intensity)\n",
    "aged_df = gp.GRAPES(aged_labels, aged_intensity)"
   ]
  },
  {
   "cell_type": "code",
   "execution_count": null,
   "id": "7d935eeb",
   "metadata": {},
   "outputs": [],
   "source": [
    "pristine_df.head()"
   ]
  },
  {
   "cell_type": "markdown",
   "id": "704d8905",
   "metadata": {},
   "source": [
    "We can now reduce the data into volume quartiles "
   ]
  },
  {
   "cell_type": "code",
   "execution_count": null,
   "id": "a65e9f73",
   "metadata": {},
   "outputs": [],
   "source": [
    "pristine_qdf = gp.radial_layers_quartiles(pristine_df, prop = 'volume')\n",
    "charged_qdf = gp.radial_layers_quartiles(aged_df, prop = 'volume')"
   ]
  },
  {
   "cell_type": "markdown",
   "id": "1699850d",
   "metadata": {},
   "source": [
    "We can now plot the mean normalised greylevel value in radial layers averaged across all the particles in the dataset. We see that the particles are brighter at the surface, this is due to a phase contrast effect. "
   ]
  },
  {
   "cell_type": "code",
   "execution_count": null,
   "id": "0e018e73",
   "metadata": {},
   "outputs": [],
   "source": [
    "gp.plot_quartile_radial_layers(pristine_qdf, prop = 'radial_layers_graylevelnormed')"
   ]
  },
  {
   "cell_type": "code",
   "execution_count": null,
   "id": "2cf6a026",
   "metadata": {},
   "outputs": [],
   "source": [
    "gp.plot_quartile_radial_layers(charged_qdf, prop = 'radial_layers_graylevelnormed')"
   ]
  },
  {
   "cell_type": "markdown",
   "id": "5af57892",
   "metadata": {},
   "source": [
    "By comparing the plots for `pristine_intensity' vs 'aged_intensity', we can see that the aged particles had lower intensities on average in the centers of the particles. This is characteristic of the cracking that occurs during ageing. "
   ]
  },
  {
   "cell_type": "markdown",
   "id": "d32dd9e2",
   "metadata": {},
   "source": [
    "Next we demonstrate how the `GRAPES` toolkit can be used to visualise the distribution of a property in space. Using `props_2_image` we can replot a property from the dataframe in image space. This is demosntrated below for 'intensity_mean' of each particle.\n",
    "\n",
    "In the plot below we suggest choosing the `viridis` colormap and moving the 'range' slider up so that the intensity difference is viewable."
   ]
  },
  {
   "cell_type": "code",
   "execution_count": null,
   "id": "21f5c595",
   "metadata": {},
   "outputs": [],
   "source": [
    "pristine_mean_int = gp.prop_2_image(pristine_labels, pristine_df, prop = 'intensity_mean')\n",
    "slider2 = view_axis0(ma.masked_where(pristine_mean_int == 0, pristine_mean_int).data)\n",
    "display(slider2)"
   ]
  },
  {
   "cell_type": "code",
   "execution_count": null,
   "id": "eb26eabf",
   "metadata": {},
   "outputs": [],
   "source": [
    "charged_mean_int = gp.prop_2_image(aged_labels, aged_df, prop = 'intensity_mean')\n",
    "slider3 = view_axis0(charged_mean_int)\n",
    "display(slider3)"
   ]
  },
  {
   "cell_type": "markdown",
   "id": "e0b0be81",
   "metadata": {},
   "source": [
    "### Conclusion\n",
    "The `GRAPES` toolkit can be used characterize greylevel change and other particle level characteristics in X-ray CT datasets of particles. In this case relatively small 256 x 256 x 256 volumes were used, however, this method works best with larger volumes. For a more detailed description of the electrochemical imaging use-case see this [paper](https://onlinelibrary.wiley.com/doi/full/10.1002/smtd.202500082)."
   ]
  }
 ],
 "metadata": {
  "kernelspec": {
   "display_name": "base",
   "language": "python",
   "name": "python3"
  },
  "language_info": {
   "codemirror_mode": {
    "name": "ipython",
    "version": 3
   },
   "file_extension": ".py",
   "mimetype": "text/x-python",
   "name": "python",
   "nbconvert_exporter": "python",
   "pygments_lexer": "ipython3",
   "version": "3.10.12"
  }
 },
 "nbformat": 4,
 "nbformat_minor": 5
}
