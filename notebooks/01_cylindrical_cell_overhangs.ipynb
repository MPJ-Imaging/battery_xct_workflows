{
 "cells": [
  {
   "cell_type": "markdown",
   "id": "b4a5db54",
   "metadata": {},
   "source": [
    "# Analyzing Electrode Overhangs from XCT of Li-ion Cylindrical Cells\n",
    "\n",
    "This notebook demonstrates a reproducible workflow to analyze **electrode overhangs** in X-ray CT (XCT) volumes of Li-ion cylindrical cells.\n",
    "\n",
    "**We will:**\n",
    "- Reslice the volume using **angular slicing** through the cell center to avoid warping artifacts.\n",
    "- Visualize **overhang segmentations** and make them globally unique across angles.\n",
    "- Extract **region-level features** and compute distributions of:\n",
    "  1) Overhang orientation (angle),\n",
    "  2) Overhang vertical length, and\n",
    "  3) Overhang base position (height) deviation.\n",
    "\n",
    "**Notebook map**\n",
    "1. Load and inspect the native slicing\n",
    "2. Why angle slicing? (warping demo)\n",
    "3. Build the angle-sliced stack\n",
    "4. Segmentations (precomputed) and overlays\n",
    "5. Relabel masks globally\n",
    "6. Region properties → DataFrame\n",
    "7. Metrics: angles, lengths, base-position deviation\n",
    "\n",
    "> **Notes**: Plots are in pixel units. Replace the thresholding/segmentation with your model as needed; here we load precomputed masks for reproducibility."
   ]
  },
  {
   "cell_type": "markdown",
   "id": "md_setup_intro",
   "metadata": {},
   "source": [
    "## 0) Setup & imports\n",
    "Add the project root to `sys.path` for utility imports, then pull in the scientific Python stack and plotting helpers."
   ]
  },
  {
   "cell_type": "code",
   "execution_count": null,
   "id": "42ce1094",
   "metadata": {},
   "outputs": [],
   "source": [
    "import os, sys\n",
    "CWD = os.getcwd()\n",
    "if os.path.basename(CWD) == \"notebooks\":\n",
    "    PROJECT_ROOT = os.path.abspath(os.path.join(CWD, \"..\"))\n",
    "else:\n",
    "    PROJECT_ROOT = CWD  # fallback if already at root\n",
    "os.chdir(PROJECT_ROOT)\n",
    "sys.path.append(os.path.join(PROJECT_ROOT, \"utils\"))\n",
    "print(f\"Correct Working Directory: {str(os.path.basename(os.getcwd()))=='battery_xct_workflows'}\")"
   ]
  },
  {
   "cell_type": "code",
   "execution_count": null,
   "id": "2e59060c-04ad-4836-8094-6cc65269046f",
   "metadata": {},
   "outputs": [],
   "source": [
    "import tifffile as tiff\n",
    "import numpy as np\n",
    "from scipy.ndimage import rotate\n",
    "from skimage.measure import regionprops_table\n",
    "from tqdm import tqdm\n",
    "import pandas as pd\n",
    "import os\n",
    "import matplotlib.pyplot as plt\n",
    "%matplotlib widget\n",
    "from utils.plotting_utils import view_axis0, view_axis0_with_labels\n",
    "from IPython.display import display"
   ]
  },
  {
   "cell_type": "markdown",
   "id": "b3827f51",
   "metadata": {},
   "source": [
    "## 1) Inspect the volume\n",
    "Load the stack (originally sliced along the z-axis = cell height) and explore it interactively."
   ]
  },
  {
   "cell_type": "code",
   "execution_count": null,
   "id": "984b7e38-8871-4c4f-a9ee-6e74cb6578b8",
   "metadata": {},
   "outputs": [],
   "source": [
    "files = sorted([f for f in os.listdir('data/cell_vol') if f.lower().endswith(\".tif\")])\n",
    "vol = np.array([tiff.imread(os.path.join('data/cell_vol', f)) for f in files])\n",
    "slider = view_axis0(vol)\n",
    "display(slider)"
   ]
  },
  {
   "cell_type": "markdown",
   "id": "e522fc07",
   "metadata": {},
   "source": [
    "## 2) Why angle slicing? Warping demo\n",
    "Slicing strictly along x/y across the whole field of view leads to **warping** of the electrode/overhang geometry away from the center because these slices are not normal to the winding everywhere. The widget below illustrates this effect on a simple transpose-based view. The `np.repeat` step restores the original aspect ratio for axis 0 in this downsampled shared dataset."
   ]
  },
  {
   "cell_type": "code",
   "execution_count": null,
   "id": "bedaf155",
   "metadata": {},
   "outputs": [],
   "source": [
    "vol1 = np.transpose(vol, (1,0,2))\n",
    "vol1 = np.repeat(vol1, 2, axis=1) # resizes to original aspect for viewing\n",
    "slider_1 = view_axis0(vol1)\n",
    "display(slider_1)"
   ]
  },
  {
   "cell_type": "markdown",
   "id": "82de0bbf",
   "metadata": {},
   "source": [
    "## 3) Build the angle-sliced stack\n",
    "To avoid warping, we perform **angular slicing**: rotate the volume by a set of angles about the cell axis and, for each rotation, extract the central slice. This approximates slicing normal to the winding near the center while sampling many angular sectors.\n",
    "\n",
    "**Implementation details:**\n",
    "- We rotate about axes `(1, 2)` and pick the middle index along the rotated axis.\n",
    "- Here we use angles `0..175°` in steps of 5° to match mask processing later.\n",
    "- `order=1` keeps rotations fast while preserving intensity well enough for visualization/segmentation."
   ]
  },
  {
   "cell_type": "code",
   "execution_count": null,
   "id": "84befb32",
   "metadata": {},
   "outputs": [],
   "source": [
    "com = np.array(vol.shape)/2\n",
    "vol1 = []\n",
    "for angle in tqdm(range(0,180,5)): # Must be steps of 5 to work with masks later\n",
    "    rot_matrix = rotate(vol, angle, axes=(1, 2), reshape=False, order=1)\n",
    "    im = rot_matrix[:, int(com[1]), :]\n",
    "    vol1.append(im.astype(np.uint8))    \n",
    "vol1 = np.array(vol1)"
   ]
  },
  {
   "cell_type": "markdown",
   "id": "md_view_angle_stack",
   "metadata": {},
   "source": [
    "## 4) Explore the angle-sliced stack\n",
    "Scroll through angle-sliced images to confirm the absence of warping and sufficient coverage of overhangs across angles."
   ]
  },
  {
   "cell_type": "code",
   "execution_count": null,
   "id": "dff38897",
   "metadata": {},
   "outputs": [],
   "source": [
    "vol1 = np.repeat(vol1, 2, axis=1) # Again, resizes to original aspect for viewing\n",
    "slider_2 = view_axis0(vol1)\n",
    "display(slider_2)"
   ]
  },
  {
   "cell_type": "markdown",
   "id": "f0c65c5f",
   "metadata": {},
   "source": [
    "## 5) Segment overhangs (precomputed masks)\n",
    "We now load a precomputed segmentation of the overhangs (e.g., from a U-Net). The model weights are not included in this repository; the masks are provided for reproducibility and quick exploration."
   ]
  },
  {
   "cell_type": "code",
   "execution_count": null,
   "id": "b13b1e51",
   "metadata": {},
   "outputs": [],
   "source": [
    "overhangs_mask = tiff.imread('data/cell_labels.tif')\n",
    "slider_3 = view_axis0_with_labels(vol1, overhangs_mask)\n",
    "display(slider_3)"
   ]
  },
  {
   "cell_type": "markdown",
   "id": "a70b0584",
   "metadata": {},
   "source": [
    "## 6) Relabel masks globally\n",
    "Mask labels are currently unique **within** each angle. We remap labels so that each connected overhang across the entire angle stack receives a **globally unique** ID. This simplifies downstream aggregation and statistics."
   ]
  },
  {
   "cell_type": "code",
   "execution_count": null,
   "id": "a8e91c92",
   "metadata": {},
   "outputs": [],
   "source": [
    "relabelled = []\n",
    "imax = 0\n",
    "for im in overhangs_mask:\n",
    "    im = np.where(im == 0, 0, im+imax).astype(np.uint16)\n",
    "    relabelled.append(im)\n",
    "    imax = np.amax(im)\n",
    "relabelled = np.array(relabelled)"
   ]
  },
  {
   "cell_type": "markdown",
   "id": "c31b96e0",
   "metadata": {},
   "source": [
    "## 7) Region properties → DataFrame\n",
    "`skimage.measure.regionprops_table` computes region-level descriptors (e.g., area, bounding box, centroid, orientation, pixel coordinates). We concatenate results from all angles into a single `pandas` DataFrame for analysis.\n",
    "\n",
    "> **Tip:** If you only need a few fields and have many regions, `regionprops_table` is faster and memory-friendlier than iterating `regionprops` objects."
   ]
  },
  {
   "cell_type": "code",
   "execution_count": null,
   "id": "7884ff9b",
   "metadata": {},
   "outputs": [],
   "source": [
    "df = []\n",
    "for im in relabelled:\n",
    "    temp_df = regionprops_table(im, properties = ('label','area','bbox','centroid','centroid_local','coords','orientation','image'))\n",
    "    df.append(pd.DataFrame(temp_df))\n",
    "df = pd.concat(df, axis=0, ignore_index=True)\n",
    "df.head()"
   ]
  },
  {
   "cell_type": "markdown",
   "id": "7ed244b9",
   "metadata": {},
   "source": [
    "## 8) Metric: Overhang angle distribution\n",
    "We examine the distribution of **orientation** returned by `regionprops_table` (radians). This approximates the overhang angle relative to the image coordinate frame. For interpretability, we convert to degrees in the histogram."
   ]
  },
  {
   "cell_type": "code",
   "execution_count": null,
   "id": "e21bc13c",
   "metadata": {},
   "outputs": [],
   "source": [
    "orient_mean = df['orientation'].mean()\n",
    "orient_std = df['orientation'].std()\n",
    "\n",
    "plt.figure(figsize=(8, 5))\n",
    "plt.hist(df['orientation']*(180/np.pi), bins=50, density=False, alpha=0.6, color='blue', edgecolor='black')\n",
    "\n",
    "plt.title(f'Overhang Angles (Mean: {orient_mean:.2f}, STD: {orient_std:.5f})')\n",
    "plt.xlabel('Angle (degrees)')\n",
    "plt.ylabel('Count')\n",
    "plt.show()"
   ]
  },
  {
   "cell_type": "markdown",
   "id": "f9ceef15",
   "metadata": {},
   "source": [
    "## 9) Metric: Overhang vertical length\n",
    "We estimate the **vertical travel** of each overhang using bounding-box extents: `Y-travel = bbox-2 - bbox-0`. You can adapt this to physical units by multiplying with your pixel size."
   ]
  },
  {
   "cell_type": "code",
   "execution_count": null,
   "id": "69b51c4d",
   "metadata": {},
   "outputs": [],
   "source": [
    "df['X-travel'] = df['bbox-3'] - df['bbox-1']\n",
    "df['Y-travel'] = df['bbox-2'] - df['bbox-0']\n",
    "\n",
    "# Calculate the standard deviations and means\n",
    "yt_mean = df['Y-travel'].mean()\n",
    "yt_std = df['Y-travel'].std()\n",
    "\n",
    "plt.figure(figsize=(8, 5))\n",
    "plt.hist(df['Y-travel'], bins=10, density=False, alpha=0.6, color='blue', edgecolor='black')\n",
    "\n",
    "plt.title(f'Overhang Vertical Length (Mean: {yt_mean:.2f}, STD: {yt_std:.2f})')\n",
    "plt.xlabel('Length (px)')\n",
    "plt.xlim(0,40)\n",
    "plt.ylabel('Count')\n",
    "plt.show()"
   ]
  },
  {
   "cell_type": "markdown",
   "id": "e0ef9ae9",
   "metadata": {},
   "source": [
    "## 10) Metric: Overhang base position deviation\n",
    "We use the bounding-box **top** (`bbox-2`, per this dataset’s orientation) as a proxy for the **base position** where an overhang starts. Subtracting the mean base height yields a deviation that reflects **stacking height consistency** across overhangs."
   ]
  },
  {
   "cell_type": "code",
   "execution_count": null,
   "id": "5ce7c0c8",
   "metadata": {},
   "outputs": [],
   "source": [
    "# Compute mean base height of overhang\n",
    "df[\"mean_base\"] = df[\"bbox-2\"].mean()\n",
    "# Deviation from mean height\n",
    "df[\"electrode_height_deviation\"] = df[\"bbox-2\"] - df[\"mean_base\"]\n",
    "\n",
    "# Plot distribution\n",
    "plt.figure(figsize=(8,5))\n",
    "plt.hist(df[\"electrode_height_deviation\"], bins=15, density=False, alpha=0.6, color='blue', edgecolor='black')\n",
    "\n",
    "plt.xlabel(\"Deviation (px)\")\n",
    "plt.ylabel(\"Frequency\")\n",
    "plt.xlim(-25,25)\n",
    "plt.title(f\"Overhang Base Position Deviation from Mean (STD: {df['electrode_height_deviation'].std():.3f})\")\n",
    "plt.show()"
   ]
  },
  {
   "cell_type": "markdown",
   "id": "43afdbeb",
   "metadata": {},
   "source": [
    "## Conclusion\n",
    "This workflow provides a practical template for quantifying overhang quality from XCT volumes: angle-aware slicing to avoid warping, consistent labeling, and simple, interpretable metrics. It can be adapted to add further properties (e.g., shape descriptors, thickness proxies) or converted to physical units by applying the pixel size."
   ]
  }
 ],
 "metadata": {
  "kernelspec": {
   "display_name": "base",
   "language": "python",
   "name": "python3"
  },
  "language_info": {
   "codemirror_mode": {
    "name": "ipython",
    "version": 3
   },
   "file_extension": ".py",
   "mimetype": "text/x-python",
   "name": "python",
   "nbconvert_exporter": "python",
   "pygments_lexer": "ipython3",
   "version": "3.10.12"
  }
 },
 "nbformat": 4,
 "nbformat_minor": 5
}
