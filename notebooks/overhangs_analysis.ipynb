{
 "cells": [
  {
   "cell_type": "markdown",
   "id": "b4a5db54",
   "metadata": {},
   "source": [
    "# An Example Jupyter Notebook for Analyzing Overhang Quality in X-ray CT Tomograms of Cylindrical Cells\n",
    "Here we present methods for analysing the quality of electrode overhangs in a X-ray tomogram of a Lithium-ion cylindrical cell.\n",
    "\n",
    "In this notebook we demonstrate how to create an 'angle slicing' through the center of the cells so as not to create warping in the slice images. Segmented images of the electrode overhangs are then analysed in order to extract quality metrics of the population of overhangs, such as;\n",
    "\n",
    "1. Overhang Angle Distribution \n",
    "2. Overhang Vertical Length Distribution\n",
    "3. Overhang Base Position Distribution"
   ]
  },
  {
   "cell_type": "code",
   "execution_count": null,
   "id": "2e59060c-04ad-4836-8094-6cc65269046f",
   "metadata": {},
   "outputs": [],
   "source": [
    "import tifffile as tiff\n",
    "import numpy as np\n",
    "from scipy.ndimage import rotate\n",
    "from skimage.measure import regionprops_table\n",
    "from tqdm import tqdm\n",
    "import pandas as pd\n",
    "import os\n",
    "#os.chdir(os.path.dirname(os.getcwd()))\n",
    "print(f\"Correct Working Directory: {str(os.path.basename(os.getcwd()))=='battery_xct_notebooks'}\")\n",
    "import matplotlib.pyplot as plt\n",
    "%matplotlib widget\n",
    "from utils.plotting_utils import view_axis0, view_axis0_with_labels\n",
    "from IPython.display import display"
   ]
  },
  {
   "cell_type": "markdown",
   "id": "b3827f51",
   "metadata": {},
   "source": [
    "Below we visualize the original data, which is sliced along the z-axis (the height of the cell). "
   ]
  },
  {
   "cell_type": "code",
   "execution_count": null,
   "id": "984b7e38-8871-4c4f-a9ee-6e74cb6578b8",
   "metadata": {},
   "outputs": [],
   "source": [
    "files = sorted([f for f in os.listdir('data/cell_vol') if f.lower().endswith(\".tif\")])\n",
    "vol = np.array([tiff.imread(os.path.join('data/cell_vol', f)) for f in files])\n",
    "vol = np.repeat(vol, 2, axis=0) # image was downsampled in axis zero for repo, resizes to original aspect \n",
    "slider = view_axis0(vol)\n",
    "display(slider)"
   ]
  },
  {
   "cell_type": "markdown",
   "id": "e522fc07",
   "metadata": {},
   "source": [
    "In order to better segment the data it needs to be resliced. Slicing through the x-axis or y-axis will visualize the electode and overhangs well when slicing through the center of the cell, but will create a 'distortion' effect elsewhere.\n",
    "\n",
    "This is visualized below."
   ]
  },
  {
   "cell_type": "code",
   "execution_count": null,
   "id": "bedaf155",
   "metadata": {},
   "outputs": [],
   "source": [
    "vol1 = np.transpose(vol, (1,0,2))\n",
    "slider_1 = view_axis0(vol1)\n",
    "display(slider_1)"
   ]
  },
  {
   "cell_type": "markdown",
   "id": "82de0bbf",
   "metadata": {},
   "source": [
    "By sliding through the widget above you can see that central slices are visualized well but slices off-center are effected by distortion. This distortion is caused by not slicing normal to the electrode winding. \n",
    "\n",
    "Therefore, we create an 'angular slicing' where we rotate the image and then slice through the center of the rotated image. This allows us to sample the overhangs sufficently without having warping effect the measurement."
   ]
  },
  {
   "cell_type": "code",
   "execution_count": null,
   "id": "84befb32",
   "metadata": {},
   "outputs": [],
   "source": [
    "com = np.array(vol.shape)/2\n",
    "axial_top = []\n",
    "for angle in tqdm(range(0,180,5)): # Must be steps of 5 to work with masks later\n",
    "    rot_matrix = rotate(vol, angle, axes=(1, 2), reshape=False, order=1)\n",
    "    im = rot_matrix[:, int(com[1]), :]\n",
    "    axial_top.append(im)    \n",
    "axial_top = np.array(axial_top)"
   ]
  },
  {
   "cell_type": "code",
   "execution_count": null,
   "id": "dff38897",
   "metadata": {},
   "outputs": [],
   "source": [
    "slider_2 = view_axis0(axial_top)\n",
    "display(slider_2)"
   ]
  },
  {
   "cell_type": "markdown",
   "id": "f0c65c5f",
   "metadata": {},
   "source": [
    "All the slices are now distortion free. A segmentation mask can now be calculated for the overhangs and applied to the image. In this case a Unet model was trained to segment the image. The model is not made available as part of this repository. "
   ]
  },
  {
   "cell_type": "code",
   "execution_count": null,
   "id": "b13b1e51",
   "metadata": {},
   "outputs": [],
   "source": [
    "axial_top_mask = tiff.imread('data/cell_labels.tif')\n",
    "slider_3 = view_axis0_with_labels(axial_top, axial_top_mask)\n",
    "display(slider_3)"
   ]
  },
  {
   "cell_type": "markdown",
   "id": "a70b0584",
   "metadata": {},
   "source": [
    "Above we visualise the overhangs masks overlayed onto the angular sliced data.\n",
    "\n",
    "Currently mask labels are only unique within angular slices, so now we assign globally unique labels.  "
   ]
  },
  {
   "cell_type": "code",
   "execution_count": null,
   "id": "a8e91c92",
   "metadata": {},
   "outputs": [],
   "source": [
    "relabelled = []\n",
    "imax = 0\n",
    "for im in axial_top_mask:\n",
    "    im = np.where(im == 0, 0, im+imax).astype(np.uint16)\n",
    "    relabelled.append(im)\n",
    "    imax = np.amax(im)\n",
    "relabelled = np.array(relabelled)"
   ]
  },
  {
   "cell_type": "markdown",
   "id": "c31b96e0",
   "metadata": {},
   "source": [
    "Skimage's `regionprops_table` is now used to analyse the overhangs. This outputs a pandas dataframe of overhangs and overhang properties."
   ]
  },
  {
   "cell_type": "code",
   "execution_count": null,
   "id": "7884ff9b",
   "metadata": {},
   "outputs": [],
   "source": [
    "df = []\n",
    "for im in relabelled:\n",
    "    temp_df = regionprops_table(im, properties = ('label','area','bbox','centroid','centroid_local','coords','orientation','image'))\n",
    "    df.append(pd.DataFrame(temp_df))\n",
    "df = pd.concat(df, axis=0, ignore_index=True)\n",
    "df.head()"
   ]
  },
  {
   "cell_type": "markdown",
   "id": "7ed244b9",
   "metadata": {},
   "source": [
    "From the DataFrame we can now calculate a range of usefull metrics, for example the distribution of overhang angles."
   ]
  },
  {
   "cell_type": "code",
   "execution_count": null,
   "id": "e21bc13c",
   "metadata": {},
   "outputs": [],
   "source": [
    "orient_mean = df['orientation'].mean()\n",
    "orient_std = df['orientation'].std()\n",
    "\n",
    "plt.figure(figsize=(8, 5))\n",
    "plt.hist(df['orientation']*(180/np.pi), bins=50, density=False, alpha=0.6, color='blue', edgecolor='black')\n",
    "\n",
    "plt.title(f'Overhang Angles (Mean: {orient_mean:.2f}, STD: {orient_std:.5f})')\n",
    "plt.xlabel('Angle (degrees)')\n",
    "plt.ylabel('Count')\n",
    "plt.show()"
   ]
  },
  {
   "cell_type": "markdown",
   "id": "f9ceef15",
   "metadata": {},
   "source": [
    "We can calculate the 'vertical travel' of the overhangs and plot the distribution. "
   ]
  },
  {
   "cell_type": "code",
   "execution_count": null,
   "id": "69b51c4d",
   "metadata": {},
   "outputs": [],
   "source": [
    "df['X-travel'] = df['bbox-3'] - df['bbox-1']\n",
    "df['Y-travel'] = df['bbox-2'] - df['bbox-0']\n",
    "\n",
    "# Calculate the standard deviations and means\n",
    "yt_mean = df['Y-travel'].mean()\n",
    "yt_std = df['Y-travel'].std()\n",
    "\n",
    "plt.figure(figsize=(8, 5))\n",
    "plt.hist(df['Y-travel'], bins=10, density=False, alpha=0.6, color='blue', edgecolor='black')\n",
    "\n",
    "plt.title(f'Overhang Vertical Length (Mean: {yt_mean:.2f}, STD: {yt_std:.2f})')\n",
    "plt.xlabel('Length (px)')\n",
    "plt.xlim(0,40)\n",
    "plt.ylabel('Count')\n",
    "plt.show()"
   ]
  },
  {
   "cell_type": "markdown",
   "id": "e0ef9ae9",
   "metadata": {},
   "source": [
    "And plot the deviation in base position of the overhangs, a.k.a the height at which the overhangs start. This effectively measure the consistency of the cathode stacking height."
   ]
  },
  {
   "cell_type": "code",
   "execution_count": null,
   "id": "5ce7c0c8",
   "metadata": {},
   "outputs": [],
   "source": [
    "# Compute mean base height of overhang\n",
    "df[\"mean_base\"] = df[\"bbox-2\"].mean()\n",
    "# Deviation from mean height\n",
    "df[\"electrode_height_deviation\"] = df[\"bbox-2\"] - df[\"mean_base\"]\n",
    "\n",
    "# Plot distribution\n",
    "plt.figure(figsize=(8,5))\n",
    "plt.hist(df[\"electrode_height_deviation\"], bins=15, density=False, alpha=0.6, color='blue', edgecolor='black')\n",
    "\n",
    "plt.xlabel(\"Deviation (px)\")\n",
    "plt.ylabel(\"Frequency\")\n",
    "plt.xlim(-25,25)\n",
    "plt.title(f\"Overhang Base Position Deviation from Mean (STD: {df['electrode_height_deviation'].std():.3f})\")\n",
    "plt.show()"
   ]
  },
  {
   "cell_type": "markdown",
   "id": "43afdbeb",
   "metadata": {},
   "source": [
    "### 4. Conclusion\n",
    "This notebook may prove beneficial to battery quality control and manufacturing where it could be used to inform the assessment of overhang faults and stacking quality automatically from XCT tomograms of cylindrical cells.\n",
    "If you have any questions or comments on this notebook please contact the authors."
   ]
  }
 ],
 "metadata": {
  "kernelspec": {
   "display_name": "Python 3",
   "language": "python",
   "name": "python3"
  },
  "language_info": {
   "codemirror_mode": {
    "name": "ipython",
    "version": 3
   },
   "file_extension": ".py",
   "mimetype": "text/x-python",
   "name": "python",
   "nbconvert_exporter": "python",
   "pygments_lexer": "ipython3",
   "version": "3.10.12"
  }
 },
 "nbformat": 4,
 "nbformat_minor": 5
}
