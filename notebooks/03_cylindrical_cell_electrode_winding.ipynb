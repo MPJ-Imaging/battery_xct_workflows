{
 "cells": [
  {
   "cell_type": "markdown",
   "id": "f2ebb88a",
   "metadata": {},
   "source": [
    "# Unrolling Cylindrical Cell “Jelly Rolls” and Detecting Electrode Buckling from XCT\n",
    "\n",
    "This notebook demonstrates a reproducible workflow to **unroll** a binary segmentation of a spiral (the jelly roll in a cylindrical Li-ion cell) from Euclidean coordinates into **polar coordinates** \\((r, \\theta)\\). Inspired by Kok *et al.* (2019), we then extract individual layers and quantify their deviation from an **ideal Archimedean spiral**, providing a simple measure of **winding quality**.\n",
    "\n",
    "**We will:**\n",
    "1. Quickly visualize example images and masks.\n",
    "2. Explain the unrolling method step by step (center, radial map, angular map, masking, unrolling).\n",
    "3. Use helper functions to analyze the data (layer extraction, line fits, deviations).\n",
    "4. Summarize findings.\n",
    "\n",
    "> **Notes**: All computations below operate in pixel units for clarity. You can convert to physical units by multiplying by the pixel size of your dataset."
   ]
  },
  {
   "cell_type": "markdown",
   "id": "md_setup_intro",
   "metadata": {},
   "source": [
    "## 0) Setup & imports\n",
    "Configure paths so `utils/` can be imported, then load the scientific stack and unrolling helpers."
   ]
  },
  {
   "cell_type": "code",
   "execution_count": null,
   "id": "87cc756a",
   "metadata": {},
   "outputs": [],
   "source": [
    "import os, sys\n",
    "CWD = os.getcwd()\n",
    "if os.path.basename(CWD) == \"notebooks\":\n",
    "    PROJECT_ROOT = os.path.abspath(os.path.join(CWD, \"..\"))\n",
    "else:\n",
    "    PROJECT_ROOT = CWD  # fallback if already at root\n",
    "os.chdir(PROJECT_ROOT)\n",
    "sys.path.append(os.path.join(PROJECT_ROOT, \"utils\"))\n",
    "print(f\"Correct Working Directory: {str(os.path.basename(os.getcwd()))=='battery_xct_workflows'}\")"
   ]
  },
  {
   "cell_type": "code",
   "execution_count": null,
   "id": "06de07f1",
   "metadata": {},
   "outputs": [],
   "source": [
    "# If you're running this notebook in Google Colab, install requirements:\n",
    "import sys\n",
    "if \"google.colab\" in sys.modules:\n",
    "    # Install requirements from GitHub\n",
    "    !pip install -q -r https://raw.githubusercontent.com/MPJ-Imaging/battery_xct_workflows/HEAD/requirements.txt\n",
    "\n",
    "    # Enable ipywidgets + widget backend\n",
    "    try:\n",
    "        from google.colab import output\n",
    "        output.enable_custom_widget_manager()\n",
    "        %matplotlib widget\n",
    "        print(\"Colab: using Matplotlib widget backend.\")\n",
    "    except Exception as e:\n",
    "        print(\"Colab: could not enable widget backend, falling back to inline.\", e)\n",
    "        %matplotlib inline\n",
    "else:\n",
    "    # Local / Binder users can uncomment if packages are missing\n",
    "    # !pip install -r requirements.txt\n",
    "    %matplotlib widget"
   ]
  },
  {
   "cell_type": "code",
   "execution_count": null,
   "id": "36aabdc3",
   "metadata": {},
   "outputs": [],
   "source": [
    "import tifffile as tiff\n",
    "import numpy as np\n",
    "import numpy.ma as ma\n",
    "import skimage\n",
    "from skimage.measure import label as label\n",
    "from scipy.ndimage import center_of_mass as c_of_m\n",
    "from scipy.ndimage import distance_transform_edt as dist_trans\n",
    "import matplotlib.pyplot as plt\n",
    "import math\n",
    "import utils.unrolling as nrol"
   ]
  },
  {
   "cell_type": "markdown",
   "id": "bb4c9b79",
   "metadata": {},
   "source": [
    "## 1) Visualize sample data\n",
    "Load two example slices and their binary masks. *Image 1* is nominal (no buckling); *Image 2* shows buckled layers near the center. We’ll overlay masks to confirm the segmentation quality."
   ]
  },
  {
   "cell_type": "code",
   "execution_count": null,
   "id": "fdeb5506",
   "metadata": {},
   "outputs": [],
   "source": [
    "im1 = tiff.imread('data/im_1.tif')\n",
    "mask1 =tiff.imread('data/mask_1.tif')\n",
    "im2 = tiff.imread('data/im_2.tif')\n",
    "mask2 =tiff.imread('data/mask_2.tif')\n",
    "\n",
    "def show_overlay(img, msk, ax, title=\"\"):\n",
    "    # basic checks\n",
    "    if img.shape != msk.shape:\n",
    "        raise ValueError(f\"Image/mask shapes differ: {img.shape} vs {msk.shape}\")\n",
    "\n",
    "    ax.imshow(img, cmap=\"gray\", interpolation=\"nearest\")\n",
    "    alpha = (msk > 0).astype(float) * 0.5   # 0 where mask==0, 0.5 where mask>0\n",
    "    ax.imshow(msk, cmap=\"Reds\", alpha=alpha, interpolation=\"nearest\")\n",
    "    ax.set_title(title)\n",
    "    ax.axis(\"off\")\n",
    "\n",
    "# ---- Visualize ----\n",
    "fig, axes = plt.subplots(2, 2, figsize=(10, 10))\n",
    "axes = axes.ravel()\n",
    "\n",
    "# Img Msk Pair 1: image + overlay\n",
    "axes[0].imshow(im1, cmap=\"gray\", interpolation=\"nearest\")\n",
    "axes[0].set_title(\"Image 1\")\n",
    "axes[0].axis(\"off\")\n",
    "show_overlay(im1, mask1, axes[1], \"Image 1 + Mask\")\n",
    "\n",
    "# Img Msk Pair 2: image + overlay\n",
    "axes[2].imshow(im2, cmap=\"gray\", interpolation=\"nearest\")\n",
    "axes[2].set_title(\"Image 2\")\n",
    "axes[2].axis(\"off\")\n",
    "show_overlay(im2, mask2, axes[3], \"Image 2 + Mask\")\n",
    "\n",
    "plt.tight_layout()\n",
    "plt.show()"
   ]
  },
  {
   "cell_type": "markdown",
   "id": "8503c5b3",
   "metadata": {},
   "source": [
    "*Observation*: In **Image 1**, the mask follows the electrode layers closely. In **Image 2**, central buckling is visible, and the mask captures it well—ideal for testing the unrolling analysis."
   ]
  },
  {
   "cell_type": "markdown",
   "id": "47783620",
   "metadata": {},
   "source": [
    "## 2) How the unrolling works\n",
    "The core idea is to map each segmented electrode pixel from \\((x, y)\\) to **polar coordinates** \\((r, \\theta)\\) around the cell center:\n",
    "\n",
    "- **Center**: choose a reference point (here, the center of mass of the mask).\n",
    "- **Radial map**: distance of each pixel to the center ⇒ defines \\(r\\).\n",
    "- **Angular map**: angle of each pixel around the center ⇒ defines \\(\\theta\\).\n",
    "\n",
    "Once we have \\(r\\) and \\(\\theta\\) for electrode pixels, plotting **\\(r\\) vs. \\(\\theta\\)** effectively *unrolls* the spiral. In this space, an **ideal Archimedean spiral** \\(r = a + b\\theta\\) appears as a **straight line**."
   ]
  },
  {
   "cell_type": "markdown",
   "id": "md_center",
   "metadata": {},
   "source": [
    "### 2.1 Choose the center\n",
    "We use the **center of mass** of the electrode mask as the spiral center. We cast to integers for array indexing convenience (subpixel accuracy isn’t critical for the demo)."
   ]
  },
  {
   "cell_type": "code",
   "execution_count": null,
   "id": "bd89a5bb",
   "metadata": {},
   "outputs": [],
   "source": [
    "com = c_of_m(mask1)\n",
    "com = tuple(int(x) for x in com) #converting to int to remove subpixels\n",
    "print('C_of_M is '+ str(com))"
   ]
  },
  {
   "cell_type": "markdown",
   "id": "88434049",
   "metadata": {},
   "source": [
    "### 2.2 Optional: interior (casing) mask\n",
    "For visualization, we generate a simple interior mask (inside the can = 1, outside = 0) via threshold + flood fill. This step is **optional** and used just to restrict displays to the cell interior."
   ]
  },
  {
   "cell_type": "code",
   "execution_count": null,
   "id": "3da08626",
   "metadata": {},
   "outputs": [],
   "source": [
    "# first a basic utility mask where the inside of the battery is =1 and outside is = 0\n",
    "casing_seg = np.where(im1 > 60000, 1, 0)\n",
    "flooded_cell = skimage.segmentation.flood_fill(casing_seg, com, new_value = 1)\n",
    "plt.figure(figsize=(5, 5))\n",
    "plt.imshow(flooded_cell.astype(np.uint8), cmap='gray')\n",
    "plt.show()"
   ]
  },
  {
   "cell_type": "markdown",
   "id": "79303691",
   "metadata": {},
   "source": [
    "### 2.3 Radial distance map \\(r\\)\n",
    "Create an image where each pixel stores its **Euclidean distance** to the center. Multiplying by the interior mask limits visualization to the can’s interior only."
   ]
  },
  {
   "cell_type": "code",
   "execution_count": null,
   "id": "d6d1b1c8",
   "metadata": {},
   "outputs": [],
   "source": [
    "dist_transform = np.ones_like(im1)\n",
    "dist_transform[com[0], com[1]] = 0\n",
    "dist_transform = dist_trans(dist_transform.astype(np.uint16))\n",
    "plt.imshow((dist_transform*flooded_cell).astype(np.uint16), cmap='viridis')\n",
    "plt.colorbar()\n",
    "plt.title('Radial distance wrt centre of mass of cell')\n",
    "plt.show()"
   ]
  },
  {
   "cell_type": "markdown",
   "id": "f6f293d3",
   "metadata": {},
   "source": [
    "Each interior pixel now carries its **radial position** (in pixels) relative to the chosen center."
   ]
  },
  {
   "cell_type": "markdown",
   "id": "md_angle_map",
   "metadata": {},
   "source": [
    "### 2.4 Angular map \\(\\theta\\)\n",
    "Next we assign each pixel an **angular position** around the center. With array coordinates in image space, we compute \\(\\theta\\) using `np.arctan2` on offset coordinates. (We use the ordering consistent with the code below.)"
   ]
  },
  {
   "cell_type": "code",
   "execution_count": null,
   "id": "76d95878",
   "metadata": {},
   "outputs": [],
   "source": [
    "arr = np.zeros_like(im1)\n",
    "arr = np.indices(arr.shape)\n",
    "print(arr[0]) #arr[0] here returns the y-coord of each point in the image \n",
    "print(arr[1]) #similarly arr[1] will return x-coord"
   ]
  },
  {
   "cell_type": "code",
   "execution_count": null,
   "id": "32ac41ef",
   "metadata": {},
   "outputs": [],
   "source": [
    "y_in = (arr[0] - com[0])\n",
    "x_in = (arr[1] - com[1])\n",
    "angular_arr = np.arctan2(x_in,y_in)"
   ]
  },
  {
   "cell_type": "markdown",
   "id": "md_angle_display",
   "metadata": {},
   "source": [
    "We convert \\(\\theta\\) to degrees in \\([0, 360)\\) for easier plotting and mask it to the interior for a clean view."
   ]
  },
  {
   "cell_type": "code",
   "execution_count": null,
   "id": "86942b01",
   "metadata": {},
   "outputs": [],
   "source": [
    "angular_arr = angular_arr * (180/math.pi) + 180 #convert into degrees with range between 0 - 360\n",
    "plt.imshow((angular_arr*flooded_cell).astype(np.uint16), cmap='viridis')\n",
    "plt.colorbar()\n",
    "plt.title('Angular position WRT centre of mass of cell')\n",
    "plt.show()"
   ]
  },
  {
   "cell_type": "markdown",
   "id": "d0e82aeb",
   "metadata": {},
   "source": [
    "Each interior pixel now carries its **angular position** with respect to the selected center."
   ]
  },
  {
   "cell_type": "markdown",
   "id": "5c4b65ae",
   "metadata": {},
   "source": [
    "### 2.5 Apply the electrode segmentation\n",
    "Mask the **radial** and **angular** maps with the electrode segmentation so we only keep pixels belonging to the electrode phase."
   ]
  },
  {
   "cell_type": "code",
   "execution_count": null,
   "id": "e7eb6e38",
   "metadata": {},
   "outputs": [],
   "source": [
    "# radial\n",
    "elec_radius_arr = dist_transform * np.where(mask1>0,1,0)\n",
    "elec_radius_arr_masked = ma.masked_where(elec_radius_arr == 0, elec_radius_arr)\n",
    "plt.imshow(elec_radius_arr.astype(np.uint16), cmap='viridis')\n",
    "plt.colorbar()\n",
    "plt.title('Radial position OF ELECTRODE wrt centre of mass of cell')\n",
    "plt.show()"
   ]
  },
  {
   "cell_type": "markdown",
   "id": "45786ad8",
   "metadata": {},
   "source": [
    "Electrode pixels are now labeled by **radial distance**."
   ]
  },
  {
   "cell_type": "code",
   "execution_count": null,
   "id": "d72a14c9",
   "metadata": {},
   "outputs": [],
   "source": [
    "# anglular\n",
    "elec_angle_arr = angular_arr * np.where(mask1>0,1,0)\n",
    "elec_angle_arr_masked = ma.masked_where(elec_angle_arr == 0, elec_angle_arr)\n",
    "plt.imshow(elec_angle_arr.astype(np.uint16), cmap='viridis')\n",
    "plt.colorbar()\n",
    "plt.title('Angular position OF ELECTRODE wrt centre of mass of cell')\n",
    "plt.show()"
   ]
  },
  {
   "cell_type": "markdown",
   "id": "e1ce201d",
   "metadata": {},
   "source": [
    "Electrode pixels are now labeled by **angular position** as well.\n",
    "\n",
    "Next, we reduce these masked arrays to 1D vectors (discarding masked values) so that each pixel contributes a pair \\((\\theta, r)\\). Concatenating these yields an **unrolled** representation of the electrode."
   ]
  },
  {
   "cell_type": "code",
   "execution_count": null,
   "id": "f5aba9ba",
   "metadata": {},
   "outputs": [],
   "source": [
    "#to 1D\n",
    "elec_radius_arr_masked = elec_radius_arr_masked[elec_radius_arr_masked.mask == False].ravel()\n",
    "elec_angle_arr_masked = elec_angle_arr_masked[elec_angle_arr_masked.mask == False].ravel()"
   ]
  },
  {
   "cell_type": "markdown",
   "id": "d268f512",
   "metadata": {},
   "source": [
    "### 2.6 Quick unrolled scatter\n",
    "Plot \\(r\\) versus \\(\\theta\\) for the segmented electrode pixels. In the **ideal** case, each layer forms a straight line (Archimedean spiral in polar space). Buckling or local mis-winding appears as **nonlinearity** or **outliers**."
   ]
  },
  {
   "cell_type": "code",
   "execution_count": null,
   "id": "7d827cee",
   "metadata": {},
   "outputs": [],
   "source": [
    "# now lets plot \n",
    "plt.scatter(elec_angle_arr_masked, elec_radius_arr_masked, s=5) # the s=5 is the size of the points and may need to be adjusted\n",
    "\n",
    "# Set the axis labels\n",
    "plt.xlabel('Angular Position, degrees', fontsize = 10)\n",
    "plt.ylabel('Radial Position, px', fontsize = 10)\n",
    "\n",
    "# Set the plot title\n",
    "plt.title('Unrolled Electrode', fontsize = 12)\n",
    "\n",
    "# Display the plot\n",
    "plt.show()"
   ]
  },
  {
   "cell_type": "markdown",
   "id": "34b3d970",
   "metadata": {},
   "source": [
    "That works - but the `utils/unrolling.py` helpers provide a cleaner API for layer extraction and error metrics."
   ]
  },
  {
   "cell_type": "markdown",
   "id": "d66e2f2a",
   "metadata": {},
   "source": [
    "## 3) Analyze the sample data with the unrolling helpers\n",
    "We’ll use `virtual_unroll` to extract layer-wise \\((\\theta, r)\\) summaries and `add_linear_fit_errors` to compute deviations from **straight lines** (i.e., an ideal Archimedean spiral in this space)."
   ]
  },
  {
   "cell_type": "code",
   "execution_count": null,
   "id": "6bdda9ed",
   "metadata": {},
   "outputs": [],
   "source": [
    "help(nrol.virtual_unroll)"
   ]
  },
  {
   "cell_type": "code",
   "execution_count": null,
   "id": "38a3d9fd",
   "metadata": {},
   "outputs": [],
   "source": [
    "unrolled1 = nrol.virtual_unroll(mask1, com)\n",
    "unrolled1.head()"
   ]
  },
  {
   "cell_type": "markdown",
   "id": "b2174899",
   "metadata": {},
   "source": [
    "`virtual_unroll` returns a **DataFrame** with one row per extracted layer and columns describing layer geometry in the unrolled space. The `chunk_thkn` column records layer thickness at sampled positions (useful context for deviations)."
   ]
  },
  {
   "cell_type": "markdown",
   "id": "6ce512fa",
   "metadata": {},
   "source": [
    "In an **ideal cell**, layers follow an **Archimedean spiral**:\n",
    "\n",
    "$$ r = a + b\\,\\theta $$\n",
    "\n",
    "which appears as a **straight line** in \\((\\theta, r)\\). Fitting a line to each layer and computing residuals gives a direct measure of **buckling or mis-winding**."
   ]
  },
  {
   "cell_type": "code",
   "execution_count": null,
   "id": "6a6bcff8",
   "metadata": {},
   "outputs": [],
   "source": [
    "help(nrol.add_linear_fit_errors)"
   ]
  },
  {
   "cell_type": "code",
   "execution_count": null,
   "id": "7cfb65c0",
   "metadata": {},
   "outputs": [],
   "source": [
    "unrolled1 = nrol.add_linear_fit_errors(unrolled1)\n",
    "unrolled1.head()"
   ]
  },
  {
   "cell_type": "markdown",
   "id": "1ad5c515",
   "metadata": {},
   "source": [
    "Visualize the unrolled layers and their **maximum absolute error (MaxAE)** from the line fit. For nominal data, layers should be near-linear with small MaxAE values."
   ]
  },
  {
   "cell_type": "code",
   "execution_count": null,
   "id": "887ba424",
   "metadata": {},
   "outputs": [],
   "source": [
    "nrol.plot_unrolled_layers(unrolled1, title='Unrolled Image 1')"
   ]
  },
  {
   "cell_type": "markdown",
   "id": "05fc6e11",
   "metadata": {},
   "source": [
    "Now apply the same pipeline to **Image 2**, which exhibits central buckling. We expect larger deviations from linearity (higher MaxAE), especially for layers near the center."
   ]
  },
  {
   "cell_type": "code",
   "execution_count": null,
   "id": "bad81431",
   "metadata": {},
   "outputs": [],
   "source": [
    "unrolled2 = nrol.virtual_unroll(mask2)\n",
    "unrolled2 = nrol.add_linear_fit_errors(unrolled2)\n",
    "nrol.plot_unrolled_layers(unrolled2, title='Unrolled Image 2')"
   ]
  },
  {
   "cell_type": "markdown",
   "id": "56f1b5fa",
   "metadata": {},
   "source": [
    "Optionally, color each layer by its deviation to highlight where buckling is most severe."
   ]
  },
  {
   "cell_type": "code",
   "execution_count": null,
   "id": "004d4872",
   "metadata": {},
   "outputs": [],
   "source": [
    "nrol.plot_unrolled_layers(unrolled2, title='Unrolled Image 2', color_by_error=True)"
   ]
  },
  {
   "cell_type": "markdown",
   "id": "70a06c52",
   "metadata": {},
   "source": [
    "*Observation*: The unrolled layers in **Image 2** show clear **nonlinearity** with higher **MaxAE** values, especially near the center where buckling is present (e.g., layer 2 deviates by ~15 px in this example)."
   ]
  },
  {
   "cell_type": "markdown",
   "id": "293b6caa",
   "metadata": {},
   "source": [
    "## 4) Conclusion\n",
    "Unrolling electrode segmentations into polar coordinates provides an intuitive view of winding quality: ideal layers appear as straight lines, while buckling manifests as curvature and increased residuals. The approach here—center selection, radial/angle maps, mask application, and simple linear fits—offers a **transparent, reproducible** baseline that you can extend with physical scaling, robust fitting, or per-layer QC thresholds for automated flagging."
   ]
  }
 ],
 "metadata": {
  "kernelspec": {
   "display_name": "base",
   "language": "python",
   "name": "python3"
  },
  "language_info": {
   "codemirror_mode": {
    "name": "ipython",
    "version": 3
   },
   "file_extension": ".py",
   "mimetype": "text/x-python",
   "name": "python",
   "nbconvert_exporter": "python",
   "pygments_lexer": "ipython3",
   "version": "3.10.12"
  }
 },
 "nbformat": 4,
 "nbformat_minor": 5
}
