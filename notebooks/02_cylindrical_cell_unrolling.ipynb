{
 "cells": [
  {
   "cell_type": "markdown",
   "id": "f2ebb88a",
   "metadata": {},
   "source": [
    "# An Example Jupyter Notebook for Unrolling Cylindrical Cell 'Jelly Rolls' and Detecting Electrode Buckling in X-ray CT Tomograms\n",
    "This method unrolls a binary segmentation of a spiral (in this case the jelly roll of a cylindrical cell) from euclidean coordinatess into radial and angular coordinatess (a.k.a polar co-ordinates). This is similar to the method presented by Kok et al from which this takes inspiration,\n",
    "see the paper [here](https://pubs.rsc.org/en/content/articlehtml/2019/se/c9se00500e#imgfig1). We then extract individual layers from the spiral and calculate the deviation of each layer from an ideal spiral. This allows for the determination of 'winding' quality. \n",
    "\n",
    "This notebook is organised like so:\n",
    "1. Quick visualisation of the sample data\n",
    "2. Exploration of how this unrolling method works \n",
    "3. Using pre-built functions to analyse the sample data \n",
    "4. Conclusion"
   ]
  },
  {
   "cell_type": "code",
   "execution_count": null,
   "id": "36aabdc3",
   "metadata": {},
   "outputs": [],
   "source": [
    "import os, sys\n",
    "CWD = os.getcwd()\n",
    "if os.path.basename(CWD) == \"notebooks\":\n",
    "    PROJECT_ROOT = os.path.abspath(os.path.join(CWD, \"..\"))\n",
    "else:\n",
    "    PROJECT_ROOT = CWD  # fallback if already at root\n",
    "os.chdir(PROJECT_ROOT)\n",
    "sys.path.append(os.path.join(PROJECT_ROOT, \"utils\"))\n",
    "print(f\"Correct Working Directory: {str(os.path.basename(os.getcwd()))=='battery_xct_notebooks'}\")\n",
    "\n",
    "\n",
    "import tifffile as tiff\n",
    "import numpy as np\n",
    "import numpy.ma as ma\n",
    "import skimage\n",
    "from skimage.measure import label as label\n",
    "from scipy.ndimage import center_of_mass as c_of_m\n",
    "from scipy.ndimage import distance_transform_edt as dist_trans\n",
    "import matplotlib.pyplot as plt\n",
    "import math\n",
    "import utils.unrolling as nrol"
   ]
  },
  {
   "cell_type": "markdown",
   "id": "bb4c9b79",
   "metadata": {},
   "source": [
    "### 1. Visualise sample data"
   ]
  },
  {
   "cell_type": "code",
   "execution_count": null,
   "id": "fdeb5506",
   "metadata": {},
   "outputs": [],
   "source": [
    "im1 = tiff.imread('data/im_1.tif')\n",
    "mask1 =tiff.imread('data/mask_1.tif')\n",
    "im2 = tiff.imread('data/im_2.tif')\n",
    "mask2 =tiff.imread('data/mask_2.tif')\n",
    "\n",
    "def show_overlay(img, msk, ax, title=\"\"):\n",
    "    # basic checks\n",
    "    if img.shape != msk.shape:\n",
    "        raise ValueError(f\"Image/mask shapes differ: {img.shape} vs {msk.shape}\")\n",
    "\n",
    "    ax.imshow(img, cmap=\"gray\", interpolation=\"nearest\")\n",
    "    alpha = (msk > 0).astype(float) * 0.5   # 0 where mask==0, 0.5 where mask>0\n",
    "    ax.imshow(msk, cmap=\"Reds\", alpha=alpha, interpolation=\"nearest\")\n",
    "    ax.set_title(title)\n",
    "    ax.axis(\"off\")\n",
    "\n",
    "# ---- Visualize ----\n",
    "fig, axes = plt.subplots(2, 2, figsize=(10, 10))\n",
    "axes = axes.ravel()\n",
    "\n",
    "# Img Msk Pair 1: image + overlay\n",
    "axes[0].imshow(im1, cmap=\"gray\", interpolation=\"nearest\")\n",
    "axes[0].set_title(\"Image 1\")\n",
    "axes[0].axis(\"off\")\n",
    "show_overlay(im1, mask1, axes[1], \"Image 1 + Mask\")\n",
    "\n",
    "# Img Msk Pair 2: image + overlay\n",
    "axes[2].imshow(im2, cmap=\"gray\", interpolation=\"nearest\")\n",
    "axes[2].set_title(\"Image 2\")\n",
    "axes[2].axis(\"off\")\n",
    "show_overlay(im2, mask2, axes[3], \"Image 2 + Mask\")\n",
    "\n",
    "plt.tight_layout()\n",
    "plt.show()"
   ]
  },
  {
   "cell_type": "markdown",
   "id": "8503c5b3",
   "metadata": {},
   "source": [
    "Image 1 shows an undamaged cell, from the overlayed mask we can see that the mask accurately identifies the electrode pixels. Image 2 shows a damaged cell with buckled electrode layers at the center of the cell. Again the mask is accurate."
   ]
  },
  {
   "cell_type": "markdown",
   "id": "47783620",
   "metadata": {},
   "source": [
    "### 2. How does the unrolling work?\n",
    "At its heart this is about assigning the segmented pixels polar coordinates via radial and arctan masks.\n",
    "\n",
    "First define the centre of the spiral winding of the jelly roll."
   ]
  },
  {
   "cell_type": "code",
   "execution_count": null,
   "id": "bd89a5bb",
   "metadata": {},
   "outputs": [],
   "source": [
    "com = c_of_m(mask1)\n",
    "com = tuple(int(x) for x in com) #converting to int to remove subpixels\n",
    "print('C_of_M is '+ str(com))"
   ]
  },
  {
   "cell_type": "markdown",
   "id": "88434049",
   "metadata": {},
   "source": [
    "Next we create a simple utility mask where the inside of the battery is =1 and outside is = 0. This can be nice for visualisation. This is not a important step however."
   ]
  },
  {
   "cell_type": "code",
   "execution_count": null,
   "id": "3da08626",
   "metadata": {},
   "outputs": [],
   "source": [
    "# first a basic utility mask where the inside of the battery is =1 and outside is = 0\n",
    "casing_seg = np.where(im1 > 60000, 1, 0)\n",
    "flooded_cell = skimage.segmentation.flood_fill(casing_seg, com, new_value = 1)\n",
    "plt.figure(figsize=(5, 5))\n",
    "plt.imshow(flooded_cell.astype(np.uint8), cmap='gray')\n",
    "plt.show()"
   ]
  },
  {
   "cell_type": "markdown",
   "id": "79303691",
   "metadata": {},
   "source": [
    "Next we create an image where every pixel is given a value based on its radial distance from the C_of_M using a euclidean distance transform. This is important for the unrolling as it is used to define the y-coordinate in the unrolled coordinate system."
   ]
  },
  {
   "cell_type": "code",
   "execution_count": null,
   "id": "d6d1b1c8",
   "metadata": {},
   "outputs": [],
   "source": [
    "dist_transform = np.ones_like(im1)\n",
    "dist_transform[com[0], com[1]] = 0\n",
    "dist_transform = dist_trans(dist_transform.astype(np.uint16))\n",
    "plt.imshow((dist_transform*flooded_cell).astype(np.uint16), cmap='viridis')\n",
    "plt.colorbar()\n",
    "plt.title('Radial distance wrt centre of mass of cell')\n",
    "plt.show()"
   ]
  },
  {
   "cell_type": "markdown",
   "id": "f6f293d3",
   "metadata": {},
   "source": [
    "So in the image above each pixel inside the cell casing is labelled with its radial distance (in pixels) from the centre of the cell as defined by the C_of_M of the casing.\n",
    "\n",
    "Next we have to label each pixel inside the cell with its angular position with respect to the C_of_M. In order to do this we need to calculate:\n",
    "\n",
    "$$\n",
    "    \\theta = arctan(\\frac{x - x_0}{y - y_0})\n",
    "$$\n",
    "\n",
    "Where $\\theta$ is the new angular position, $x$ is x-coord of a pixel, $x_0$ is the x-coord of the CoM, $y$ is y-coord of a pixel, and $y_0$ is the y-coord of the CoM. In order to handle this calculation as arrays in a element-wise fashion we used the numpy.arctan2 function, documentation found [here](https://numpy.org/doc/stable/reference/generated/numpy.arctan2.html)."
   ]
  },
  {
   "cell_type": "code",
   "execution_count": null,
   "id": "76d95878",
   "metadata": {},
   "outputs": [],
   "source": [
    "arr = np.zeros_like(im1)\n",
    "arr = np.indices(arr.shape)\n",
    "print(arr[0]) #arr[0] here returns the y-coord of each point in the image \n",
    "print(arr[1]) #similarly arr[1] will return x-coord"
   ]
  },
  {
   "cell_type": "code",
   "execution_count": null,
   "id": "32ac41ef",
   "metadata": {},
   "outputs": [],
   "source": [
    "y_in = (arr[0] - com[0])\n",
    "x_in = (arr[1] - com[1])\n",
    "angular_arr = np.arctan2(x_in,y_in)"
   ]
  },
  {
   "cell_type": "code",
   "execution_count": null,
   "id": "86942b01",
   "metadata": {},
   "outputs": [],
   "source": [
    "angular_arr = angular_arr * (180/math.pi) + 180 #convert into degrees with range between 0 - 360\n",
    "plt.imshow((angular_arr*flooded_cell).astype(np.uint16), cmap='viridis')\n",
    "plt.colorbar()\n",
    "plt.title('Angular position WRT centre of mass of cell')\n",
    "plt.show()"
   ]
  },
  {
   "cell_type": "markdown",
   "id": "d0e82aeb",
   "metadata": {},
   "source": [
    "So in the image above each pixel inside the cell casing is labelled with its angular position (in degrees) with respect to the centre of the cell as defined by the C_of_M of the casing."
   ]
  },
  {
   "cell_type": "markdown",
   "id": "5c4b65ae",
   "metadata": {},
   "source": [
    "Now we mask out the radial/angular position images above with the segmentation of the phase of interest. This is shown below."
   ]
  },
  {
   "cell_type": "code",
   "execution_count": null,
   "id": "e7eb6e38",
   "metadata": {},
   "outputs": [],
   "source": [
    "# radial\n",
    "elec_radius_arr = dist_transform * np.where(mask1>0,1,0)\n",
    "elec_radius_arr_masked = ma.masked_where(elec_radius_arr == 0, elec_radius_arr)\n",
    "plt.imshow(elec_radius_arr.astype(np.uint16), cmap='viridis')\n",
    "plt.colorbar()\n",
    "plt.title('Radial position OF ELECTRODE wrt centre of mass of cell')\n",
    "plt.show()"
   ]
  },
  {
   "cell_type": "markdown",
   "id": "45786ad8",
   "metadata": {},
   "source": [
    "Thus, in the image above each electrode pixel from our segmentation is labelled with its radial position."
   ]
  },
  {
   "cell_type": "code",
   "execution_count": null,
   "id": "d72a14c9",
   "metadata": {},
   "outputs": [],
   "source": [
    "# anglular\n",
    "elec_angle_arr = angular_arr * np.where(mask1>0,1,0)\n",
    "elec_angle_arr_masked = ma.masked_where(elec_angle_arr == 0, elec_angle_arr)\n",
    "plt.imshow(elec_angle_arr.astype(np.uint16), cmap='viridis')\n",
    "plt.colorbar()\n",
    "plt.title('Angular position OF ELECTRODE wrt centre of mass of cell')\n",
    "plt.show()"
   ]
  },
  {
   "cell_type": "markdown",
   "id": "e1ce201d",
   "metadata": {},
   "source": [
    "Thus, in the image above each electrode pixel is labelled with it angular postition.\n",
    "\n",
    "We now reduce these radial/angular position of electrode images (above) to one dimensional arrays. By combing the two 1D arrays we can descirbe the position of the electrode phase in a coordinate system of radial distance and  (a.k.a. polar co-ordinates). The data is now unrolled."
   ]
  },
  {
   "cell_type": "code",
   "execution_count": null,
   "id": "f5aba9ba",
   "metadata": {},
   "outputs": [],
   "source": [
    "#to 1D\n",
    "elec_radius_arr_masked = elec_radius_arr_masked[elec_radius_arr_masked.mask == False].ravel()\n",
    "elec_angle_arr_masked = elec_angle_arr_masked[elec_angle_arr_masked.mask == False].ravel()"
   ]
  },
  {
   "cell_type": "markdown",
   "id": "d268f512",
   "metadata": {},
   "source": [
    "Now we can plot some simple results. We are going to plot the electrode on a 2d scatter in terms of angular position and distance from centre."
   ]
  },
  {
   "cell_type": "code",
   "execution_count": null,
   "id": "7d827cee",
   "metadata": {},
   "outputs": [],
   "source": [
    "# now lets plot \n",
    "plt.scatter(elec_angle_arr_masked, elec_radius_arr_masked, s=5) # the s=5 is the size of the points and may need to be adjusted\n",
    "\n",
    "# Set the axis labels\n",
    "plt.xlabel('Angular Position, degrees', fontsize = 10)\n",
    "plt.ylabel('Radial Position, px', fontsize = 10)\n",
    "\n",
    "# Set the plot title\n",
    "plt.title('Unrolled Electrode', fontsize = 12)\n",
    "\n",
    "# Display the plot\n",
    "plt.show()"
   ]
  },
  {
   "cell_type": "markdown",
   "id": "34b3d970",
   "metadata": {},
   "source": [
    "But we can do better with our `utils/unrolling.py` functions!"
   ]
  },
  {
   "cell_type": "markdown",
   "id": "d66e2f2a",
   "metadata": {},
   "source": [
    "### 3. Analyse the sample data using the unrolling package\n",
    "We have some functions to unroll and  analyse this kind of dataset. "
   ]
  },
  {
   "cell_type": "code",
   "execution_count": null,
   "id": "6bdda9ed",
   "metadata": {},
   "outputs": [],
   "source": [
    "help(nrol.virtual_unroll)"
   ]
  },
  {
   "cell_type": "code",
   "execution_count": null,
   "id": "38a3d9fd",
   "metadata": {},
   "outputs": [],
   "source": [
    "unrolled1 = nrol.virtual_unroll(mask1, com)\n",
    "unrolled1.head()"
   ]
  },
  {
   "cell_type": "markdown",
   "id": "b2174899",
   "metadata": {},
   "source": [
    "As you can see this outputs a pandas dataframe where each layer in the spiral is a row in the dataframe with associated radial and angular positions from the unrolling. The `chunk_thkn` refers to the thickness of the layer at each radial and angular position. "
   ]
  },
  {
   "cell_type": "markdown",
   "id": "6ce512fa",
   "metadata": {},
   "source": [
    "An ideal cylindrical cell can be modelled as a archimedean spiral:\n",
    "\n",
    "$r = a + b\\theta$\n",
    "\n",
    "This plots as a straight line in our polar co-ordinate system. Therefore by fitting straight lines to the angular and radial positions we can easily calculate how much each layer then deviates from such an ideal shape."
   ]
  },
  {
   "cell_type": "code",
   "execution_count": null,
   "id": "6a6bcff8",
   "metadata": {},
   "outputs": [],
   "source": [
    "help(nrol.add_linear_fit_errors)"
   ]
  },
  {
   "cell_type": "code",
   "execution_count": null,
   "id": "7cfb65c0",
   "metadata": {},
   "outputs": [],
   "source": [
    "unrolled1 = nrol.add_linear_fit_errors(unrolled1)\n",
    "unrolled1.head()"
   ]
  },
  {
   "cell_type": "markdown",
   "id": "1ad5c515",
   "metadata": {},
   "source": [
    "We can plot this using inbuilt functions "
   ]
  },
  {
   "cell_type": "code",
   "execution_count": null,
   "id": "887ba424",
   "metadata": {},
   "outputs": [],
   "source": [
    "nrol.plot_unrolled_layers(unrolled1, title='Unrolled Image 1')"
   ]
  },
  {
   "cell_type": "markdown",
   "id": "05fc6e11",
   "metadata": {},
   "source": [
    "Above we have plotted the layers and also calculated their deviation (MaxAE) from an ideal Archimedean spiral, in this case this is given in pixel units.\n",
    "\n",
    "Now lets do the same for `im2` which had some buckled electrode layers."
   ]
  },
  {
   "cell_type": "code",
   "execution_count": null,
   "id": "bad81431",
   "metadata": {},
   "outputs": [],
   "source": [
    "unrolled2 = nrol.virtual_unroll(mask2)\n",
    "unrolled2 = nrol.add_linear_fit_errors(unrolled2)\n",
    "nrol.plot_unrolled_layers(unrolled2, title='Unrolled Image 2')"
   ]
  },
  {
   "cell_type": "markdown",
   "id": "56f1b5fa",
   "metadata": {},
   "source": [
    "Alternatively, we can plot the layers with color mapping to the deviation from the spiral"
   ]
  },
  {
   "cell_type": "code",
   "execution_count": null,
   "id": "004d4872",
   "metadata": {},
   "outputs": [],
   "source": [
    "nrol.plot_unrolled_layers(unrolled2, title='Unrolled Image 2', color_by_error=True)"
   ]
  },
  {
   "cell_type": "markdown",
   "id": "70a06c52",
   "metadata": {},
   "source": [
    "We can see far greater non-linearity in the unrolled data. This is quantified by the large MaxAE values. We see that the layers near the center of the cell that have buckled deviate considerably from the ideal archimedean spiral (layer 2 deviates by 15 px). "
   ]
  },
  {
   "cell_type": "markdown",
   "id": "293b6caa",
   "metadata": {},
   "source": [
    "### 4. Conclusion\n",
    "This method may prove beneficial to battery quality control and manufacturing where it could be used to inform the assessment of winding quality automatically from XCT tomograms.\n",
    "If you have any questions or comments on this notebook please contact the authors."
   ]
  }
 ],
 "metadata": {
  "kernelspec": {
   "display_name": "Python 3",
   "language": "python",
   "name": "python3"
  },
  "language_info": {
   "codemirror_mode": {
    "name": "ipython",
    "version": 3
   },
   "file_extension": ".py",
   "mimetype": "text/x-python",
   "name": "python",
   "nbconvert_exporter": "python",
   "pygments_lexer": "ipython3",
   "version": "3.10.12"
  }
 },
 "nbformat": 4,
 "nbformat_minor": 5
}
