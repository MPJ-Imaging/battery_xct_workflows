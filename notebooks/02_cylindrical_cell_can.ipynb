{
 "cells": [
  {
   "cell_type": "markdown",
   "id": "ec33fc63",
   "metadata": {},
   "source": [
    "# Assessing Li-ion Cylindrical Cell Canister from XCT Slices\n",
    "\n",
    "This notebook demonstrates a reproducible workflow for assessing the **can (canister)** of a Li-ion cylindrical cell from X-ray CT (XCT) slices. The can is a critical safety component: dents or out-of-roundness can indicate underlying mechanical or manufacturing issues.\n",
    "\n",
    "**We extract:**\n",
    "- **Outer/Inner Equivalent Diameters** (area-equivalent circle diameters)\n",
    "- **Wall Thickness** statistics via distance transform (mean / min / max / σ)\n",
    "- **Eccentricity** from an ellipse fit to the outer boundary\n",
    "- **Denting (max inward deviation)** relative to the fitted ellipse\n",
    "\n",
    "**Notebook map:**\n",
    "1. Load an XCT slice and create a binary mask of the can wall\n",
    "2. Extract inner/outer contours and visualize\n",
    "3. Compute equivalent diameters (outer & inner)\n",
    "4. Estimate wall thickness from inner wall to outer border (EDT)\n",
    "5. Fit an ellipse to the outer contour (RANSAC) and compute eccentricity\n",
    "6. Build an angular dent profile and report max dent\n",
    "7. Visual summary and a synthetic data example with obvious defects"
   ]
  },
  {
   "cell_type": "markdown",
   "id": "md_setup_intro",
   "metadata": {},
   "source": [
    "## 0) Setup & imports\n",
    "Add the project root to `sys.path` (so we can import utilities), then import the scientific Python stack."
   ]
  },
  {
   "cell_type": "code",
   "execution_count": null,
   "id": "78fe651b",
   "metadata": {},
   "outputs": [],
   "source": [
    "import os, sys\n",
    "CWD = os.getcwd()\n",
    "if os.path.basename(CWD) == \"notebooks\":\n",
    "    PROJECT_ROOT = os.path.abspath(os.path.join(CWD, \"..\"))\n",
    "else:\n",
    "    PROJECT_ROOT = CWD  # fallback if already at root\n",
    "os.chdir(PROJECT_ROOT)\n",
    "sys.path.append(os.path.join(PROJECT_ROOT, \"utils\"))\n",
    "print(f\"Correct Working Directory: {str(os.path.basename(os.getcwd()))=='battery_xct_workflows'}\")"
   ]
  },
  {
   "cell_type": "code",
   "execution_count": null,
   "id": "84981c8c",
   "metadata": {},
   "outputs": [],
   "source": [
    "# If you're running this notebook in Google Colab, install requirements:\n",
    "import sys\n",
    "if \"google.colab\" in sys.modules:\n",
    "    !pip install -q -r https://raw.githubusercontent.com/MPJ-Imaging/battery_xct_workflows/HEAD/requirements.txt\n",
    "\n",
    "# If you're running in a local Jupyter Notebook/Lab and see missing packages,\n",
    "# you should uncomment and run the line below:\n",
    "# !pip install -r requirements.txt"
   ]
  },
  {
   "cell_type": "code",
   "execution_count": null,
   "id": "1a490655",
   "metadata": {},
   "outputs": [],
   "source": [
    "import tifffile as tiff\n",
    "import numpy as np\n",
    "import skimage\n",
    "from skimage.measure import find_contours, EllipseModel, ransac\n",
    "from skimage.draw import polygon2mask\n",
    "from scipy.ndimage import distance_transform_edt as dist_trans\n",
    "from scipy.ndimage import convolve\n",
    "import matplotlib.pyplot as plt\n",
    "import math\n",
    "import utils.plotting_utils as plot\n",
    "import utils.can as cn"
   ]
  },
  {
   "cell_type": "markdown",
   "id": "md_load_mask",
   "metadata": {},
   "source": [
    "## 1) Load image & build a can mask\n",
    "Load a single XCT slice and create a binary mask of the can wall. The threshold here is a simple global value—adjust for your data (or replace with your preferred segmentation method). Set `px` to your pixel size so printed values are in millimetres."
   ]
  },
  {
   "cell_type": "code",
   "execution_count": null,
   "id": "b4ff1aa0",
   "metadata": {},
   "outputs": [],
   "source": [
    "# Read image and calcualte a mask\n",
    "im = tiff.imread('data/cell_vol/im075.tif')\n",
    "px = 0.03397 # mm\n",
    "mask = im > 100\n",
    "\n",
    "# Side-by-side subplots\n",
    "fig, axes = plt.subplots(1, 2, figsize=(10, 10))\n",
    "axes = axes.ravel()\n",
    "\n",
    "# Iamge Mask Pair: image + overlay\n",
    "axes[0].imshow(im, cmap=\"gray\", interpolation=\"nearest\")\n",
    "axes[0].set_title(\"XCT Slice\")\n",
    "axes[0].axis(\"off\")\n",
    "plot.show_overlay(im, mask, axes[1], \"XCT Slice + Can Mask\")\n",
    "\n",
    "plt.tight_layout()\n",
    "plt.show()"
   ]
  },
  {
   "cell_type": "markdown",
   "id": "md_contours",
   "metadata": {},
   "source": [
    "## 2) Extract inner/outer contours (and masks)\n",
    "We find subpixel contours using marching squares (`find_contours` at level 0.5), then identify **outer** and **inner** loops by area (shoelace formula). We then fill each contour into a mask with `polygon2mask`, as illustrated in the plot below."
   ]
  },
  {
   "cell_type": "code",
   "execution_count": null,
   "id": "03f7d772",
   "metadata": {},
   "outputs": [],
   "source": [
    "def extract_inner_outer_contours(mask, as_mask = False):\n",
    "    contours = find_contours((mask).astype(float), 0.5)\n",
    "    outer = max(contours, key=lambda c: 0.5*np.abs(np.sum(c[:,1]*np.roll(c[:,0],-1) - c[:,0]*np.roll(c[:,1],-1))))\n",
    "    inner = min(contours, key=lambda c: 0.5*np.abs(np.sum(c[:,1]*np.roll(c[:,0],-1) - c[:,0]*np.roll(c[:,1],-1))))\n",
    "    if as_mask == True:\n",
    "        outer = polygon2mask(mask.shape, outer).astype(np.uint8)\n",
    "        inner = polygon2mask(mask.shape, inner).astype(np.uint8)\n",
    "    return outer, inner\n",
    "\n",
    "outer, inner = extract_inner_outer_contours(mask, as_mask = True)\n",
    "inner = inner * ~mask # Remove any 'wall' pixels from inner mask\n",
    "\n",
    "fig, axes = plt.subplots(1, 1, figsize=(5, 5))\n",
    "axes.imshow(outer+inner, interpolation=\"none\")\n",
    "axes.set_title(\"Inner + Outer Mask\")\n",
    "axes.axis(\"off\")\n",
    "\n",
    "plt.tight_layout()\n",
    "plt.show()"
   ]
  },
  {
   "cell_type": "markdown",
   "id": "md_eq_diam",
   "metadata": {},
   "source": [
    "## 3) Equivalent circle diameters (outer & inner)\n",
    "Compute the **area-equivalent** diameters: \\( D_{eq} = 2\\sqrt{A/\\pi} \\). This is robust for large, nearly circular shapes and gives a single scalar per region."
   ]
  },
  {
   "cell_type": "code",
   "execution_count": null,
   "id": "fc63d3ca",
   "metadata": {},
   "outputs": [],
   "source": [
    "def equivalent_diameter_area(mask):\n",
    "    area = np.sum(mask)\n",
    "    return math.sqrt(area/math.pi)*2\n",
    "\n",
    "OD = equivalent_diameter_area(outer)\n",
    "print(f'Outer Diameter: {(OD*px):.2f} mm')\n",
    "\n",
    "ID = equivalent_diameter_area(inner)\n",
    "print(f'Inner Diameter: {(ID*px):.2f} mm')"
   ]
  },
  {
   "cell_type": "markdown",
   "id": "md_thickness",
   "metadata": {},
   "source": [
    "## 4) Wall thickness from distance transform (EDT)\n",
    "Extract one-pixel **outer border** and **inner wall** edges using a fast convolution trick. Then compute an EDT to the outer border and sample it at inner-wall pixels. Report mean / min / max / 3σ thickness (converted to mm for display)."
   ]
  },
  {
   "cell_type": "code",
   "execution_count": null,
   "id": "5ffaccb0",
   "metadata": {},
   "outputs": [],
   "source": [
    "def surface_pixels_convolve(img):\n",
    "    img8 = img.astype(np.uint8)\n",
    "    s = convolve(img8, np.ones((3,3), np.uint8), mode='constant', cval=0)\n",
    "    # interior: all 9 in the 3x3 (8-connected)\n",
    "    interior = (img & (s == 9))\n",
    "    return img & ~interior\n",
    "\n",
    "outer_border = surface_pixels_convolve(outer)\n",
    "outer_border = (outer_border == 1).astype(bool)\n",
    "\n",
    "inner_wall = surface_pixels_convolve(inner)\n",
    "inner_wall = (inner_wall == 1).astype(bool)\n",
    "\n",
    "edt = dist_trans(np.where(outer_border == True, False, True))\n",
    "thickness_vals = edt[inner_wall]\n",
    "thick_mean, thick_min, thick_max, thick_std = thickness_vals.mean(), thickness_vals.min(), thickness_vals.max(), thickness_vals.std()\n",
    "\n",
    "print(f'Mean Wall Thickness: {(thick_mean*px):.3f} mm')\n",
    "print(f'Wall Thickness 3\\u03C3: {(thick_std*3*px):.3f} mm')"
   ]
  },
  {
   "cell_type": "markdown",
   "id": "md_ellipse_fit",
   "metadata": {},
   "source": [
    "## 5) Ellipse fitting (RANSAC) to the outer contour\n",
    "Fit an ellipse to the **outer** boundary points using RANSAC for robustness to local dents/outliers. The model yields center `(xc, yc)`, semi-axes `(a, b)`, and rotation `phi` (radians)."
   ]
  },
  {
   "cell_type": "code",
   "execution_count": null,
   "id": "9c468eba",
   "metadata": {},
   "outputs": [],
   "source": [
    "contours = find_contours((mask).astype(float), 0.5)\n",
    "outer = max(contours, key=lambda c: 0.5*np.abs(np.sum(c[:,1]*np.roll(c[:,0],-1) - c[:,0]*np.roll(c[:,1],-1))))\n",
    "pts_xy = np.column_stack([outer[:,1], outer[:,0]])  # (x,y)\n",
    "\n",
    "model, inliers = ransac(\n",
    "    pts_xy,\n",
    "    EllipseModel,\n",
    "    min_samples=5,\n",
    "    residual_threshold=1.0,     # tunable\n",
    "    max_trials=2000,\n",
    "    # stop_probability=0.999,   # optional\n",
    ")\n",
    "xc, yc, a, b, phi = model.params"
   ]
  },
  {
   "cell_type": "markdown",
   "id": "md_eccentricity",
   "metadata": {},
   "source": [
    "## 6) Eccentricity of the fitted ellipse\n",
    "Compute eccentricity \\( e = \\sqrt{1-(b/a)^2} \\) ensuring `a ≥ b`. This summarizes deviation from circularity (0 = circle; →1 = elongated)."
   ]
  },
  {
   "cell_type": "code",
   "execution_count": null,
   "id": "c28ed3b3",
   "metadata": {},
   "outputs": [],
   "source": [
    "A, B = (a, b) if a >= b else (b, a)   # ensure A = major, B = minor\n",
    "eccentricity = np.sqrt(max(0.0, 1.0 - (B/A)**2))  # guard tiny numerical negatives\n",
    "\n",
    "print(f\"Eccentricity : {eccentricity:.4f}\")"
   ]
  },
  {
   "cell_type": "markdown",
   "id": "md_dent_angles",
   "metadata": {},
   "source": [
    "## 7) Build a dent profile against the ellipse\n",
    "For each boundary point, compute:\n",
    "1. Its angle around the ellipse center, and **observed radius** \\( r_{obs} \\)\n",
    "2. The ideal **ellipse radius** in that direction, \\( r_{ell}(\\theta) = \\frac{ab}{\\sqrt{(b\\cos(\\theta-\\phi))^2 + (a\\sin(\\theta-\\phi))^2}} \\)\n",
    "3. The dent depth \\( \\delta = r_{ell} - r_{obs} \\) (positive = inward dent)\n",
    "Then average \\(\\delta\\) in angular bins for a clean profile."
   ]
  },
  {
   "cell_type": "code",
   "execution_count": null,
   "id": "60869c67",
   "metadata": {},
   "outputs": [],
   "source": [
    "# radii & angles of observed contour w.r.t. the ellipse center\n",
    "vx = pts_xy[:, 0] - xc\n",
    "vy = pts_xy[:, 1] - yc\n",
    "theta = np.arctan2(vy, vx)                     # [-pi, pi)\n",
    "r_obs = np.hypot(vx, vy)"
   ]
  },
  {
   "cell_type": "code",
   "execution_count": null,
   "id": "69c23654",
   "metadata": {},
   "outputs": [],
   "source": [
    "# rotate the direction into the ellipse's principal frame\n",
    "ct = np.cos(theta - phi)\n",
    "st = np.sin(theta - phi)\n",
    "r_elli = (a * b) / np.sqrt((b * ct) ** 2 + (a * st) ** 2)\n"
   ]
  },
  {
   "cell_type": "code",
   "execution_count": null,
   "id": "e5c3e1dd",
   "metadata": {},
   "outputs": [],
   "source": [
    "# dent depth (positive = inward dent; negative = outward bulge)\n",
    "delta = r_elli - r_obs"
   ]
  },
  {
   "cell_type": "markdown",
   "id": "md_dent_binning",
   "metadata": {},
   "source": [
    "### Bin the dent depths by angle and report the maximum\n",
    "Use uniform angular bins, take the mean per bin (robust alternatives: median, or smoothing), and report the **maximum inward dent** in millimetres."
   ]
  },
  {
   "cell_type": "code",
   "execution_count": null,
   "id": "07b5b077",
   "metadata": {},
   "outputs": [],
   "source": [
    "# bin by angle for a uniform profile\n",
    "n_bins = 180\n",
    "bins = np.linspace(-np.pi, np.pi, n_bins + 1)\n",
    "centers = (bins[:-1] + bins[1:]) / 2\n",
    "idx = np.digitize(theta, bins) - 1\n",
    "idx[idx == n_bins] = 0  # wrap edge case\n",
    "\n",
    "prof = np.full(n_bins, np.nan)\n",
    "for k in range(n_bins):\n",
    "    m = (idx == k)\n",
    "    if np.any(m):\n",
    "        prof[k] = np.nanmean(delta[m])\n",
    "\n",
    "dmax = float(np.nanmax(prof)*px)\n",
    "print(f'max denting : {dmax:.4f} mm')"
   ]
  },
  {
   "cell_type": "markdown",
   "id": "md_plot_overlay",
   "metadata": {},
   "source": [
    "## 8) Visual summary\n",
    "Overlay the fitted ellipse on the image for a quick visual QA. The title shows eccentricity and the maximum inward dent."
   ]
  },
  {
   "cell_type": "code",
   "execution_count": null,
   "id": "7f9aca4a",
   "metadata": {},
   "outputs": [],
   "source": [
    "title = f'Cell Cannister: Eccentricity = {eccentricity:.4f}, Max Dent = {dmax:.4f} mm'\n",
    "plot.plot_ellipse_on_mask(im, model, title = title)"
   ]
  },
  {
   "cell_type": "markdown",
   "id": "730aa214",
   "metadata": {},
   "source": [
    "## 9) Synthetic data example\n",
    "A small synthetic mask known to have a large dent and elliptical deformation for quick sanity-checking of the pipeline and parameter choices (`px`, thresholds, RANSAC residual)."
   ]
  },
  {
   "cell_type": "code",
   "execution_count": null,
   "id": "edbeb75a",
   "metadata": {},
   "outputs": [],
   "source": [
    "# Read image and calcualte a mask\n",
    "mask = tiff.imread('data/ellipse_dent.tif')\n",
    "px = 0.0479\n",
    "\n",
    "# Side-by-side subplots\n",
    "fig, axes = plt.subplots(1, 1, figsize=(6, 6))\n",
    "\n",
    "# Iamge Mask Pair: image + overlay\n",
    "axes.imshow(mask, cmap=\"gray\", interpolation=\"nearest\")\n",
    "axes.set_title(\"Ellipse with Dent (Synthetic data)\")\n",
    "axes.axis(\"off\")\n",
    "\n",
    "plt.tight_layout()\n",
    "plt.show()"
   ]
  },
  {
   "cell_type": "markdown",
   "id": "md_api_help",
   "metadata": {},
   "source": [
    "### Helper API\n",
    "`cn.calculate_can_metrics` runs the same steps end-to-end and returns a structured metrics dictionary (and optionally the fitted ellipse model)."
   ]
  },
  {
   "cell_type": "code",
   "execution_count": null,
   "id": "98a04b84",
   "metadata": {},
   "outputs": [],
   "source": [
    "help(cn.calculate_can_metrics)"
   ]
  },
  {
   "cell_type": "markdown",
   "id": "md_run_example",
   "metadata": {},
   "source": [
    "### Run the end-to-end helper\n",
    "Here we request median aggregation for the dent profile, enable RANSAC for robustness, and set `pixel_size` so results print in millimetres."
   ]
  },
  {
   "cell_type": "code",
   "execution_count": null,
   "id": "a461d9a4",
   "metadata": {},
   "outputs": [],
   "source": [
    "# Example\n",
    "metrics, model = cn.calculate_can_metrics(\n",
    "    mask,\n",
    "    use_ransac=True,\n",
    "    ransac_residual_threshold=1.0,\n",
    "    ransac_max_trials=3000,\n",
    "    n_bins=180, \n",
    "    profile_agg=\"median\", \n",
    "    pixel_size=px,\n",
    "    return_model=True,\n",
    ")\n",
    "\n",
    "print(f\"OD = {metrics['diameter']['outer_equiv_units']:.2f} mm\")\n",
    "print(f\"ID = {metrics['diameter']['inner_equiv_units']:.2f} mm\")\n",
    "print(f\"Thickness mean/min/max = \"\n",
    "      f\"{metrics['thickness']['mean_units']:.2f} / \"\n",
    "      f\"{metrics['thickness']['min_units']:.2f} / \"\n",
    "      f\"{metrics['thickness']['max_units']:.2f} mm\")\n",
    "print(f\"Eccentricity = {metrics['ellipse']['eccentricity']:.4f}\")\n",
    "print(f\"Max dent = {metrics['dent']['max_units']:.2f} mm\")\n",
    "\n",
    "plot.plot_ellipse_on_mask(mask, model)\n"
   ]
  },
  {
   "cell_type": "markdown",
   "id": "15ac3b69",
   "metadata": {},
   "source": [
    "The RANSAC model still fits well despite the highly elliptical 'canister' and severe local denting. This allows residuals from the fitted ellipse to be used as a denting metric and shows this to be a robust approach."
   ]
  },
  {
   "cell_type": "markdown",
   "id": "md_metrics_dict",
   "metadata": {},
   "source": [
    "### Inspect the returned metrics dictionary\n",
    "Useful for saving to JSON/CSV or for downstream QA dashboards."
   ]
  },
  {
   "cell_type": "code",
   "execution_count": null,
   "id": "05fdc0c3",
   "metadata": {},
   "outputs": [],
   "source": [
    "metrics"
   ]
  },
  {
   "cell_type": "markdown",
   "id": "cb8d3f65",
   "metadata": {},
   "source": [
    "# 10) Conclusion\n",
    "Canister quality is an important indicator of underlying damage in the cell. In this workflow we demonstrated how to extract eccentricity which is an important proxy for deformation (squishing) and denting (i.e. local inwards deformations) that can stress or damage the active materials in the Li-ion cylindrical cell. "
   ]
  }
 ],
 "metadata": {
  "kernelspec": {
   "display_name": "base",
   "language": "python",
   "name": "python3"
  },
  "language_info": {
   "codemirror_mode": {
    "name": "ipython",
    "version": 3
   },
   "file_extension": ".py",
   "mimetype": "text/x-python",
   "name": "python",
   "nbconvert_exporter": "python",
   "pygments_lexer": "ipython3",
   "version": "3.10.12"
  }
 },
 "nbformat": 4,
 "nbformat_minor": 5
}
