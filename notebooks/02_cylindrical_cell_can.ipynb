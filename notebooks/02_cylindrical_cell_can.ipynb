{
 "cells": [
  {
   "cell_type": "code",
   "execution_count": null,
   "id": "1a490655",
   "metadata": {},
   "outputs": [],
   "source": [
    "import os, sys\n",
    "CWD = os.getcwd()\n",
    "if os.path.basename(CWD) == \"notebooks\":\n",
    "    PROJECT_ROOT = os.path.abspath(os.path.join(CWD, \"..\"))\n",
    "else:\n",
    "    PROJECT_ROOT = CWD  # fallback if already at root\n",
    "os.chdir(PROJECT_ROOT)\n",
    "sys.path.append(os.path.join(PROJECT_ROOT, \"utils\"))\n",
    "print(f\"Correct Working Directory: {str(os.path.basename(os.getcwd()))=='battery_xct_notebooks'}\")\n",
    "\n",
    "\n",
    "import tifffile as tiff\n",
    "import numpy as np\n",
    "import skimage\n",
    "from skimage.measure import label, find_contours, EllipseModel, ransac\n",
    "from skimage.draw import polygon2mask\n",
    "from scipy.ndimage import center_of_mass as c_of_m\n",
    "from scipy.ndimage import distance_transform_edt as dist_trans\n",
    "from scipy.ndimage import convolve\n",
    "import matplotlib.pyplot as plt\n",
    "import math\n",
    "import utils.plotting_utils as plot\n",
    "import utils.can as cn\n",
    "\n",
    "px = 0.03397 # mm"
   ]
  },
  {
   "cell_type": "code",
   "execution_count": null,
   "id": "b4ff1aa0",
   "metadata": {},
   "outputs": [],
   "source": [
    "# Read image and calcualte a mask\n",
    "im = tiff.imread('data/cell_vol/im075.tif')\n",
    "mask = im > 100\n",
    "\n",
    "# Side-by-side subplots\n",
    "fig, axes = plt.subplots(1, 2, figsize=(10, 10))\n",
    "axes = axes.ravel()\n",
    "\n",
    "# Iamge Mask Pair: image + overlay\n",
    "axes[0].imshow(im, cmap=\"gray\", interpolation=\"nearest\")\n",
    "axes[0].set_title(\"XCT Slice\")\n",
    "axes[0].axis(\"off\")\n",
    "plot.show_overlay(im, mask, axes[1], \"XCT Slice + Can Mask\")\n",
    "\n",
    "plt.tight_layout()\n",
    "plt.show()"
   ]
  },
  {
   "cell_type": "code",
   "execution_count": null,
   "id": "03f7d772",
   "metadata": {},
   "outputs": [],
   "source": [
    "def extract_inner_outer_contours(mask, as_mask = False):\n",
    "    contours = find_contours((mask).astype(float), 0.5)\n",
    "    outer = max(contours, key=lambda c: 0.5*np.abs(np.sum(c[:,1]*np.roll(c[:,0],-1) - c[:,0]*np.roll(c[:,1],-1))))\n",
    "    inner = min(contours, key=lambda c: 0.5*np.abs(np.sum(c[:,1]*np.roll(c[:,0],-1) - c[:,0]*np.roll(c[:,1],-1))))\n",
    "    if as_mask == True:\n",
    "        outer = polygon2mask(mask.shape, outer).astype(np.uint8)\n",
    "        inner = polygon2mask(mask.shape, inner).astype(np.uint8)\n",
    "    return outer, inner\n",
    "\n",
    "outer, inner = extract_inner_outer_contours(mask, as_mask = True)\n",
    "inner = inner * ~mask # Remove any 'wall' pixels from inner mask\n",
    "\n",
    "fig, axes = plt.subplots(1, 1, figsize=(5, 5))\n",
    "axes.imshow(outer+inner, interpolation=\"none\")\n",
    "axes.set_title(\"Inner + Outer Mask\")\n",
    "axes.axis(\"off\")\n",
    "\n",
    "plt.tight_layout()\n",
    "plt.show()"
   ]
  },
  {
   "cell_type": "code",
   "execution_count": null,
   "id": "fc63d3ca",
   "metadata": {},
   "outputs": [],
   "source": [
    "def equivalent_diameter_area(mask):\n",
    "    area = np.sum(mask)\n",
    "    return math.sqrt(area/math.pi)*2\n",
    "\n",
    "OD = equivalent_diameter_area(outer)\n",
    "print(f'Outer Diameter: {(OD*px):.2f} mm')\n",
    "\n",
    "ID = equivalent_diameter_area(inner)\n",
    "print(f'Inner Diameter: {(ID*px):.2f} mm')"
   ]
  },
  {
   "cell_type": "code",
   "execution_count": null,
   "id": "5ffaccb0",
   "metadata": {},
   "outputs": [],
   "source": [
    "def surface_pixels_convolve(img):\n",
    "    img8 = img.astype(np.uint8)\n",
    "    s = convolve(img8, np.ones((3,3), np.uint8), mode='constant', cval=0)\n",
    "    # interior: all 9 in the 3x3 (8-connected)\n",
    "    interior = (img & (s == 9))\n",
    "    return img & ~interior\n",
    "\n",
    "outer_border = surface_pixels_convolve(outer)\n",
    "outer_border = (outer_border == 1).astype(bool)\n",
    "\n",
    "inner_wall = surface_pixels_convolve(inner)\n",
    "inner_wall = (inner_wall == 1).astype(bool)\n",
    "\n",
    "edt = dist_trans(np.where(outer_border == True, False, True))\n",
    "thickness_vals = edt[inner_wall]\n",
    "thick_mean, thick_min, thick_max, thick_std = thickness_vals.mean(), thickness_vals.min(), thickness_vals.max(), thickness_vals.std()\n",
    "\n",
    "print(f'Mean Wall Thickness: {(thick_mean*px):.3f} mm')\n",
    "print(f'Wall Thickness 3\\u03C3: {(thick_std*3*px):.3f} mm')"
   ]
  },
  {
   "cell_type": "code",
   "execution_count": null,
   "id": "9c468eba",
   "metadata": {},
   "outputs": [],
   "source": [
    "contours = find_contours((mask).astype(float), 0.5)\n",
    "outer = max(contours, key=lambda c: 0.5*np.abs(np.sum(c[:,1]*np.roll(c[:,0],-1) - c[:,0]*np.roll(c[:,1],-1))))\n",
    "pts_xy = np.column_stack([outer[:,1], outer[:,0]])  # (x,y)\n",
    "\n",
    "model, inliers = ransac(\n",
    "    pts_xy,\n",
    "    EllipseModel,\n",
    "    min_samples=5,\n",
    "    residual_threshold=1.0,     # tunable\n",
    "    max_trials=2000,\n",
    "    # stop_probability=0.999,   # optional\n",
    ")\n",
    "xc, yc, a, b, phi = model.params"
   ]
  },
  {
   "cell_type": "code",
   "execution_count": null,
   "id": "3f08790b",
   "metadata": {},
   "outputs": [],
   "source": [
    "plot.plot_ellipse_on_mask(im, model)"
   ]
  },
  {
   "cell_type": "code",
   "execution_count": null,
   "id": "f0a1d4ef",
   "metadata": {},
   "outputs": [],
   "source": [
    "A, B = (a, b) if a >= b else (b, a)   # ensure A = major, B = minor\n",
    "eccentricity = np.sqrt(max(0.0, 1.0 - (B/A)**2))  # guard tiny numerical negatives\n",
    "\n",
    "print(f\"Eccentricity : {eccentricity:.4f}\")"
   ]
  },
  {
   "cell_type": "code",
   "execution_count": null,
   "id": "60869c67",
   "metadata": {},
   "outputs": [],
   "source": [
    "# radii & angles of observed contour w.r.t. the ellipse center\n",
    "vx = pts_xy[:, 0] - xc\n",
    "vy = pts_xy[:, 1] - yc\n",
    "theta = np.arctan2(vy, vx)                     # [-pi, pi)\n",
    "r_obs = np.hypot(vx, vy)"
   ]
  },
  {
   "cell_type": "code",
   "execution_count": null,
   "id": "69c23654",
   "metadata": {},
   "outputs": [],
   "source": [
    "# rotate the direction into the ellipse's principal frame\n",
    "ct = np.cos(theta - phi)\n",
    "st = np.sin(theta - phi)\n",
    "r_elli = (a * b) / np.sqrt((b * ct) ** 2 + (a * st) ** 2)\n"
   ]
  },
  {
   "cell_type": "code",
   "execution_count": null,
   "id": "e5c3e1dd",
   "metadata": {},
   "outputs": [],
   "source": [
    "# dent depth (positive = inward dent; negative = outward bulge)\n",
    "delta = r_elli - r_obs"
   ]
  },
  {
   "cell_type": "code",
   "execution_count": null,
   "id": "07b5b077",
   "metadata": {},
   "outputs": [],
   "source": [
    "# bin by angle for a uniform profile\n",
    "n_bins = 180\n",
    "bins = np.linspace(-np.pi, np.pi, n_bins + 1)\n",
    "centers = (bins[:-1] + bins[1:]) / 2\n",
    "idx = np.digitize(theta, bins) - 1\n",
    "idx[idx == n_bins] = 0  # wrap edge case\n",
    "\n",
    "prof = np.full(n_bins, np.nan)\n",
    "for k in range(n_bins):\n",
    "    m = (idx == k)\n",
    "    if np.any(m):\n",
    "        prof[k] = np.nanmean(delta[m])\n",
    "\n",
    "dmax = float(np.nanmax(prof)*px)\n",
    "print(f'max denting : {dmax:.4f} mm')"
   ]
  },
  {
   "cell_type": "markdown",
   "id": "730aa214",
   "metadata": {},
   "source": [
    "### Synthetic Data Example "
   ]
  },
  {
   "cell_type": "code",
   "execution_count": null,
   "id": "edbeb75a",
   "metadata": {},
   "outputs": [],
   "source": [
    "# Read image and calcualte a mask\n",
    "mask = tiff.imread('data/ellipse_dent.tif')\n",
    "px = 0.0479\n",
    "\n",
    "# Side-by-side subplots\n",
    "fig, axes = plt.subplots(1, 1, figsize=(6, 6))\n",
    "\n",
    "# Iamge Mask Pair: image + overlay\n",
    "axes.imshow(mask, cmap=\"gray\", interpolation=\"nearest\")\n",
    "axes.set_title(\"Ellipse with Dent (Synthetic data)\")\n",
    "axes.axis(\"off\")\n",
    "\n",
    "plt.tight_layout()\n",
    "plt.show()"
   ]
  },
  {
   "cell_type": "code",
   "execution_count": null,
   "id": "98a04b84",
   "metadata": {},
   "outputs": [],
   "source": [
    "help(cn.calculate_can_metrics)"
   ]
  },
  {
   "cell_type": "code",
   "execution_count": null,
   "id": "a461d9a4",
   "metadata": {},
   "outputs": [],
   "source": [
    "# Example\n",
    "metrics, model = cn.calculate_can_metrics(\n",
    "    mask,\n",
    "    use_ransac=True,\n",
    "    ransac_residual_threshold=1.0,\n",
    "    ransac_max_trials=3000,\n",
    "    n_bins=180, \n",
    "    profile_agg=\"median\", \n",
    "    pixel_size=px,\n",
    "    return_model=True,\n",
    ")\n",
    "\n",
    "print(f\"OD = {metrics['diameter']['outer_equiv_units']:.2f} mm\")\n",
    "print(f\"ID = {metrics['diameter']['inner_equiv_units']:.2f} mm\")\n",
    "print(f\"Thickness mean/min/max = \"\n",
    "      f\"{metrics['thickness']['mean_units']:.2f} / \"\n",
    "      f\"{metrics['thickness']['min_units']:.2f} / \"\n",
    "      f\"{metrics['thickness']['max_units']:.2f} mm\")\n",
    "print(f\"Eccentricity = {metrics['ellipse']['eccentricity']:.4f}\")\n",
    "print(f\"Max dent = {metrics['dent']['max_units']:.2f} mm\")\n",
    "\n",
    "plot.plot_ellipse_on_mask(mask, model)\n"
   ]
  }
 ],
 "metadata": {
  "kernelspec": {
   "display_name": "base",
   "language": "python",
   "name": "python3"
  },
  "language_info": {
   "codemirror_mode": {
    "name": "ipython",
    "version": 3
   },
   "file_extension": ".py",
   "mimetype": "text/x-python",
   "name": "python",
   "nbconvert_exporter": "python",
   "pygments_lexer": "ipython3",
   "version": "3.10.12"
  }
 },
 "nbformat": 4,
 "nbformat_minor": 5
}
